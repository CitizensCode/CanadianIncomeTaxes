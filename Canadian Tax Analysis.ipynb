{
 "cells": [
  {
   "cell_type": "code",
   "execution_count": 1,
   "metadata": {
    "collapsed": true
   },
   "outputs": [],
   "source": [
    "import numpy as np\n",
    "import pandas as pd\n",
    "from pandas import DataFrame, Series\n",
    "import seaborn as sns\n",
    "import json"
   ]
  },
  {
   "cell_type": "code",
   "execution_count": 42,
   "metadata": {
    "collapsed": false,
    "scrolled": true
   },
   "outputs": [
    {
     "name": "stdout",
     "output_type": "stream",
     "text": [
      "9.68\n",
      "39305\n"
     ]
    }
   ],
   "source": [
    "with open('Data/incomeTax.json') as data_file:    \n",
    "    data = json.load(data_file)\n",
    "\n",
    "# Testing\n",
    "print data[0][\"data\"][\"New Brunswick\"][0][\"rate\"]\n",
    "print data[0][\"data\"][\"New Brunswick\"][0][\"upper\"]"
   ]
  },
  {
   "cell_type": "code",
   "execution_count": 73,
   "metadata": {
    "collapsed": false
   },
   "outputs": [],
   "source": [
    "def getAvgRate(location, income, data):\n",
    "    \n",
    "    def govtAvg(govt):\n",
    "        # Fetch the tax bracket data\n",
    "        brackets = data[govt]\n",
    "        untaxed_income = income # This will keep track of the part of the income that has not been taxed yet\n",
    "        tax_paid = 0.0 # A running total of the amount of tax paid\n",
    "        lower = 0 # The lower value of tax bracket\n",
    "        n = 0 # Keeps track of which tax bracket we're in\n",
    "        while untaxed_income > 0:\n",
    "            # Fetch the current bracket\n",
    "            bracket = brackets[n]\n",
    "            # This checks to see if we're on the final bracket\n",
    "            try:\n",
    "                upper = int(bracket[\"upper\"]) # Upper value of tax bracket\n",
    "                rate = float(bracket[\"rate\"])/100.0 # Tax rate of bracket\n",
    "            except:\n",
    "                upper = \"max\" # There is no upper value for the final bracket\n",
    "                rate = float(bracket[\"rate\"])/100.0\n",
    "\n",
    "            if upper == \"max\" or income < upper:\n",
    "                # Does the calculation for the final bracket the person falls into\n",
    "                tax_paid = tax_paid + untaxed_income*rate\n",
    "                untaxed_income = 0\n",
    "            else:\n",
    "                # Gets the tax paid on the brackets a person is totally above\n",
    "                tax_paid = tax_paid + (upper - lower)*rate\n",
    "                untaxed_income = untaxed_income - (upper - lower)\n",
    "                lower = upper\n",
    "                n = n + 1\n",
    "        # This is the average rate the person ends up paying\n",
    "        return round(tax_paid / income * 100.0, 2)\n",
    "    \n",
    "    avg_fed_tax = govtAvg(\"Federal\")\n",
    "    avg_prov_tax = govtAvg(location)\n",
    "    \n",
    "    avg_tax_total = round(avg_prov_tax + avg_fed_tax, 2)\n",
    "\n",
    "    return {\"avg_fed\": avg_fed_tax, \"avg_prov\": avg_prov_tax, \"avg_total\": avg_tax_total}"
   ]
  },
  {
   "cell_type": "code",
   "execution_count": 77,
   "metadata": {
    "collapsed": false
   },
   "outputs": [
    {
     "name": "stdout",
     "output_type": "stream",
     "text": [
      "{'avg_total': 48.04, 'avg_prov': 20.11, 'avg_fed': 27.93}\n"
     ]
    }
   ],
   "source": [
    "# For testing the above funciton\n",
    "year = data[0][\"year\"]\n",
    "year_data = data[0][\"data\"]\n",
    "tax = getAvgRate(\"Nova Scotia\", 1000000, year_data)\n",
    "print tax"
   ]
  },
  {
   "cell_type": "code",
   "execution_count": null,
   "metadata": {
    "collapsed": false
   },
   "outputs": [],
   "source": []
  },
  {
   "cell_type": "code",
   "execution_count": 72,
   "metadata": {
    "collapsed": false
   },
   "outputs": [
    {
     "name": "stdout",
     "output_type": "stream",
     "text": [
      "2014\n"
     ]
    }
   ],
   "source": [
    "for year_record in data:\n",
    "    year = year_record[\"year\"]\n",
    "    print year"
   ]
  },
  {
   "cell_type": "code",
   "execution_count": 71,
   "metadata": {
    "collapsed": false
   },
   "outputs": [
    {
     "data": {
      "text/plain": [
       "[{u'data': {u'Federal': [{u'rate': u'15', u'upper': u'43953'},\n",
       "    {u'rate': u'22', u'upper': u'87907'},\n",
       "    {u'rate': u'26', u'upper': u'136270'},\n",
       "    {u'rate': u'29', u'upper': u'Above'}],\n",
       "   u'New Brunswick': [{u'rate': u'9.68', u'upper': u'39305'},\n",
       "    {u'rate': u'14.82', u'upper': u'78609'},\n",
       "    {u'rate': u'16.52', u'upper': u'127802'},\n",
       "    {u'rate': u'17.84', u'upper': u'Above'}],\n",
       "   u'Newfoundland and Labrador': [{u'rate': u'7.7', u'upper': u'34254'},\n",
       "    {u'rate': u'12.5', u'upper': u'68508'},\n",
       "    {u'rate': u'13.3', u'upper': u'Above'}],\n",
       "   u'Nova Scotia': [{u'rate': u'8.79', u'upper': u'29590'},\n",
       "    {u'rate': u'14.95', u'upper': u'59180'},\n",
       "    {u'rate': u'16.67', u'upper': u'93000'},\n",
       "    {u'rate': u'17.5', u'upper': u'150000'},\n",
       "    {u'rate': u'21', u'upper': u'Above'}],\n",
       "   u'Ontario': [{u'rate': u'5.05', u'upper': u'40120'},\n",
       "    {u'rate': u'9.15', u'upper': u'80242'},\n",
       "    {u'rate': u'11.16', u'upper': u'150000'},\n",
       "    {u'rate': u'12.16', u'upper': u'220000'},\n",
       "    {u'rate': u'13.16', u'upper': u'Above'}],\n",
       "   u'Prince Edward Island': [{u'rate': u'9.8', u'upper': u'31984'},\n",
       "    {u'rate': u'13.8', u'upper': u'63969'},\n",
       "    {u'rate': u'16.7', u'upper': u'Above'}]},\n",
       "  u'year': u'2014'}]"
      ]
     },
     "execution_count": 71,
     "metadata": {},
     "output_type": "execute_result"
    }
   ],
   "source": [
    "data"
   ]
  },
  {
   "cell_type": "code",
   "execution_count": null,
   "metadata": {
    "collapsed": true
   },
   "outputs": [],
   "source": []
  }
 ],
 "metadata": {
  "kernelspec": {
   "display_name": "Python 2",
   "language": "python",
   "name": "python2"
  },
  "language_info": {
   "codemirror_mode": {
    "name": "ipython",
    "version": 2
   },
   "file_extension": ".py",
   "mimetype": "text/x-python",
   "name": "python",
   "nbconvert_exporter": "python",
   "pygments_lexer": "ipython2",
   "version": "2.7.10"
  }
 },
 "nbformat": 4,
 "nbformat_minor": 0
}
