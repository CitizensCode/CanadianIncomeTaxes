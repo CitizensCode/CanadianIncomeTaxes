{
 "cells": [
  {
   "cell_type": "code",
   "execution_count": 1,
   "metadata": {
    "collapsed": true
   },
   "outputs": [],
   "source": [
    "import numpy as np\n",
    "import pandas as pd\n",
    "from pandas import DataFrame, Series\n",
    "import seaborn as sns\n",
    "import collections\n",
    "import json"
   ]
  },
  {
   "cell_type": "code",
   "execution_count": null,
   "metadata": {
    "collapsed": true
   },
   "outputs": [],
   "source": [
    "prov_ter = collections.OrderedDict()\n",
    "prov_ter = {\n",
    "    \"Federal\",\n",
    "    \"BC\",\n",
    "    \"MB\",\n",
    "    \"NB\",\n",
    "    \"NL\",\n",
    "    \"NS\",\n",
    "    \"ON\",\n",
    "    \"PE\",\n",
    "    \"QC\",\n",
    "    \"SK\",\n",
    "    \"NT\",\n",
    "    \"YT\",\n",
    "    \"FED\"}\n",
    "\n",
    "fake_brackets_prov = [\n",
    "    (0, 15),\n",
    "    (40000, 22),\n",
    "    (90000, 26),\n",
    "    (140000, 29)\n",
    "]\n",
    "\n",
    "fake_brackets_fed = [\n",
    "    (0, 20),\n",
    "    (50000, 27),\n",
    "    (100000, 34),\n",
    "    (160000, 35)\n",
    "]\n",
    "years = xrange(1985, 2016)\n",
    "incomes = xrange(5000, 2000000, 5000)"
   ]
  },
  {
   "cell_type": "code",
   "execution_count": null,
   "metadata": {
    "collapsed": false
   },
   "outputs": [],
   "source": [
    "tax_brackets = collections.OrderedDict()\n",
    "for x in years:\n",
    "    tax_brackets[str(x)] = {}"
   ]
  },
  {
   "cell_type": "code",
   "execution_count": null,
   "metadata": {
    "collapsed": false,
    "scrolled": false
   },
   "outputs": [],
   "source": [
    "for year in tax_brackets:\n",
    "    for pt in prov_ter:\n",
    "        if pt != \"FED\":\n",
    "            tax_brackets[year][pt] = fake_brackets_prov\n",
    "        else:\n",
    "            tax_brackets[year][pt] = fake_brackets_fed\n",
    "\n",
    "for year in xrange(1999, 2016):\n",
    "    tax_brackets[str(year)][\"NU\"] = fake_brackets_prov"
   ]
  },
  {
   "cell_type": "code",
   "execution_count": null,
   "metadata": {
    "collapsed": false
   },
   "outputs": [],
   "source": [
    "tb_json = json.dumps(tax_brackets)"
   ]
  },
  {
   "cell_type": "code",
   "execution_count": null,
   "metadata": {
    "collapsed": false
   },
   "outputs": [],
   "source": [
    "file_object = open('HistoricalRates/historicalTaxRates.json', 'w')\n",
    "file_object.write(tb_json)\n",
    "file_object.close()"
   ]
  },
  {
   "cell_type": "code",
   "execution_count": 42,
   "metadata": {
    "collapsed": false,
    "scrolled": true
   },
   "outputs": [
    {
     "name": "stdout",
     "output_type": "stream",
     "text": [
      "9.68\n",
      "39305\n"
     ]
    }
   ],
   "source": [
    "from pprint import pprint\n",
    "\n",
    "with open('Data/incomeTax.json') as data_file:    \n",
    "    data = json.load(data_file)\n",
    "\n",
    "print data[0][\"data\"][\"New Brunswick\"][0][\"rate\"]\n",
    "print data[0][\"data\"][\"New Brunswick\"][0][\"upper\"]"
   ]
  },
  {
   "cell_type": "code",
   "execution_count": 63,
   "metadata": {
    "collapsed": false
   },
   "outputs": [],
   "source": [
    "def findBracket(year, govt, income, data):\n",
    "    fed_brackets = data[\"Federal\"]\n",
    "    prov_brackets = data[govt]\n",
    "    \n",
    "    untaxed_income = income\n",
    "    fed_tax_paid = 0.0\n",
    "    lower = 0\n",
    "    n = 0\n",
    "    while untaxed_income > 0:\n",
    "        print n\n",
    "        bracket = fed_brackets[n]\n",
    "        try:\n",
    "            upper = int(bracket[\"upper\"])\n",
    "            rate = float(bracket[\"rate\"])/100.0\n",
    "        except:\n",
    "            upper = \"max\"\n",
    "            rate = float(bracket[\"rate\"])/100.0\n",
    "\n",
    "        if upper == \"max\" or income < upper:\n",
    "            fed_tax_paid = fed_tax_paid + untaxed_income*rate\n",
    "            untaxed_income = 0\n",
    "        else:\n",
    "            fed_tax_paid = fed_tax_paid + (upper - lower)*rate\n",
    "            untaxed_income = untaxed_income - (upper - lower)\n",
    "            lower = upper\n",
    "            n = n + 1\n",
    "    untaxed_income = income\n",
    "    avg_fed_tax = round(fed_tax_paid / income * 100.0, 2)\n",
    "\n",
    "    return {\"fed\": avg_fed_tax}"
   ]
  },
  {
   "cell_type": "code",
   "execution_count": 64,
   "metadata": {
    "collapsed": false
   },
   "outputs": [
    {
     "name": "stdout",
     "output_type": "stream",
     "text": [
      "0\n",
      "1\n",
      "2\n",
      "3\n",
      "{'fed': 27.93}\n"
     ]
    }
   ],
   "source": [
    "year = data[0][\"year\"]\n",
    "year_data = data[0][\"data\"]\n",
    "tax = findBracket(year, \"Nova Scotia\", 1000000, year_data)\n",
    "print tax"
   ]
  },
  {
   "cell_type": "code",
   "execution_count": null,
   "metadata": {
    "collapsed": false
   },
   "outputs": [],
   "source": [
    "def allBracketsForYear(year, province, incomeList, brackets):\n",
    "    incomeTotals = collections.OrderedDict()\n",
    "    for income in incomeList:\n",
    "        taxes = findBracket(year, province, income, brackets)\n",
    "        incomeTotals[income] = taxes[\"total\"]\n",
    "    return incomeTotals\n",
    "totals = allBracketsForYear(\"2000\", \"NB\", incomes, tax_brackets)"
   ]
  },
  {
   "cell_type": "code",
   "execution_count": null,
   "metadata": {
    "collapsed": false
   },
   "outputs": [],
   "source": [
    "total_tax_year_provt = collections.OrderedDict()\n",
    "for year in tax_brackets:\n",
    "    for provt in tax_brackets[year]:\n",
    "        if provt != \"FED\":\n",
    "            # total_tax_year_provt[year][provt] = "
   ]
  },
  {
   "cell_type": "code",
   "execution_count": null,
   "metadata": {
    "collapsed": false
   },
   "outputs": [],
   "source": []
  },
  {
   "cell_type": "code",
   "execution_count": null,
   "metadata": {
    "collapsed": true
   },
   "outputs": [],
   "source": []
  }
 ],
 "metadata": {
  "kernelspec": {
   "display_name": "Python 2",
   "language": "python",
   "name": "python2"
  },
  "language_info": {
   "codemirror_mode": {
    "name": "ipython",
    "version": 2
   },
   "file_extension": ".py",
   "mimetype": "text/x-python",
   "name": "python",
   "nbconvert_exporter": "python",
   "pygments_lexer": "ipython2",
   "version": "2.7.10"
  }
 },
 "nbformat": 4,
 "nbformat_minor": 0
}
