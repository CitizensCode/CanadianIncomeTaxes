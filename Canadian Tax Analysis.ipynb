{
 "cells": [
  {
   "cell_type": "code",
   "execution_count": 1,
   "metadata": {
    "collapsed": true
   },
   "outputs": [],
   "source": [
    "import numpy as np\n",
    "import pandas as pd\n",
    "from pandas import DataFrame, Series\n",
    "import seaborn as sns\n",
    "import json"
   ]
  },
  {
   "cell_type": "code",
   "execution_count": null,
   "metadata": {
    "collapsed": false
   },
   "outputs": [],
   "source": [
    "tb_json = json.dumps(tax_brackets)"
   ]
  },
  {
   "cell_type": "code",
   "execution_count": 42,
   "metadata": {
    "collapsed": false,
    "scrolled": true
   },
   "outputs": [
    {
     "name": "stdout",
     "output_type": "stream",
     "text": [
      "9.68\n",
      "39305\n"
     ]
    }
   ],
   "source": [
    "with open('Data/incomeTax.json') as data_file:    \n",
    "    data = json.load(data_file)\n",
    "\n",
    "print data[0][\"data\"][\"New Brunswick\"][0][\"rate\"]\n",
    "print data[0][\"data\"][\"New Brunswick\"][0][\"upper\"]"
   ]
  },
  {
   "cell_type": "code",
   "execution_count": 65,
   "metadata": {
    "collapsed": false
   },
   "outputs": [],
   "source": [
    "def getAvgRate(year, govt, income, data):\n",
    "    # Fetch the federal tax bracket data\n",
    "    fed_brackets = data[\"Federal\"]\n",
    "    \n",
    "    untaxed_income = income # This will keep track of the part of the income that has not been taxed yet\n",
    "    fed_tax_paid = 0.0 # A running total of the amount of federal tax paid\n",
    "    lower = 0 # The lower value of tax bracket\n",
    "    n = 0 # Keeps track of which tax bracket we're in\n",
    "    while untaxed_income > 0:\n",
    "        # Fetch the current bracket\n",
    "        bracket = fed_brackets[n]\n",
    "        # This checks to see if we're on the final bracket\n",
    "        try:\n",
    "            upper = int(bracket[\"upper\"]) # Upper value of tax bracket\n",
    "            rate = float(bracket[\"rate\"])/100.0 # Tax rate of bracket\n",
    "        except:\n",
    "            upper = \"max\" # There is no upper value for the final bracket\n",
    "            rate = float(bracket[\"rate\"])/100.0\n",
    "\n",
    "        if upper == \"max\" or income < upper:\n",
    "            # Does the calculation for the final bracket the person falls into\n",
    "            fed_tax_paid = fed_tax_paid + untaxed_income*rate\n",
    "            untaxed_income = 0\n",
    "        else:\n",
    "            # Gets the tax paid on the brackets a person is totally above\n",
    "            fed_tax_paid = fed_tax_paid + (upper - lower)*rate\n",
    "            untaxed_income = untaxed_income - (upper - lower)\n",
    "            lower = upper\n",
    "            n = n + 1\n",
    "    # This is the average rate the person ends up paying\n",
    "    avg_fed_tax = round(fed_tax_paid / income * 100.0, 2)\n",
    "    \n",
    "    # Fetch the provincial tax brackets\n",
    "    prov_brackets = data[govt]\n",
    "    # Reset the amount for the provincial portion\n",
    "    untaxed_income = income\n",
    "    \n",
    "    prov_tax_paid = 0.0\n",
    "    lower = 0\n",
    "    n = 0\n",
    "    while untaxed_income > 0:\n",
    "        bracket = prov_brackets[n]\n",
    "        try:\n",
    "            upper = int(bracket[\"upper\"])\n",
    "            rate = float(bracket[\"rate\"])/100.0\n",
    "        except:\n",
    "            upper = \"max\"\n",
    "            rate = float(bracket[\"rate\"])/100.0\n",
    "\n",
    "        if upper == \"max\" or income < upper:\n",
    "            prov_tax_paid = prov_tax_paid + untaxed_income*rate\n",
    "            untaxed_income = 0\n",
    "        else:\n",
    "            # Gets the tax paid on the brackets a person is totally above\n",
    "            prov_tax_paid = prov_tax_paid + (upper - lower)*rate\n",
    "            untaxed_income = untaxed_income - (upper - lower)\n",
    "            lower = upper\n",
    "            n = n + 1\n",
    "    # This is the average rate the person ends up paying\n",
    "    avg_prov_tax = round(prov_tax_paid / income * 100.0, 2)\n",
    "    \n",
    "    avg_tax_total = round(avg_prov_tax + avg_fed_tax, 2)\n",
    "\n",
    "    return {\"avg_fed\": avg_fed_tax, \"avg_prov\": avg_prov_tax, \"avg_total\": avg_tax_total}"
   ]
  },
  {
   "cell_type": "code",
   "execution_count": 70,
   "metadata": {
    "collapsed": false
   },
   "outputs": [
    {
     "name": "stdout",
     "output_type": "stream",
     "text": [
      "{'avg_total': 23.79, 'avg_prov': 8.79, 'avg_fed': 15.0}\n"
     ]
    }
   ],
   "source": [
    "year = data[0][\"year\"]\n",
    "year_data = data[0][\"data\"]\n",
    "tax = getAvgRate(year, \"Nova Scotia\", 10000, year_data)\n",
    "print tax"
   ]
  },
  {
   "cell_type": "code",
   "execution_count": null,
   "metadata": {
    "collapsed": false
   },
   "outputs": [],
   "source": [
    "def allBracketsForYear(year, province, incomeList, brackets):\n",
    "    incomeTotals = collections.OrderedDict()\n",
    "    for income in incomeList:\n",
    "        taxes = findBracket(year, province, income, brackets)\n",
    "        incomeTotals[income] = taxes[\"total\"]\n",
    "    return incomeTotals\n",
    "totals = allBracketsForYear(\"2000\", \"NB\", incomes, tax_brackets)"
   ]
  },
  {
   "cell_type": "code",
   "execution_count": null,
   "metadata": {
    "collapsed": false
   },
   "outputs": [],
   "source": [
    "total_tax_year_provt = collections.OrderedDict()\n",
    "for year in tax_brackets:\n",
    "    for provt in tax_brackets[year]:\n",
    "        if provt != \"FED\":\n",
    "            # total_tax_year_provt[year][provt] = "
   ]
  },
  {
   "cell_type": "code",
   "execution_count": null,
   "metadata": {
    "collapsed": false
   },
   "outputs": [],
   "source": []
  },
  {
   "cell_type": "code",
   "execution_count": null,
   "metadata": {
    "collapsed": true
   },
   "outputs": [],
   "source": []
  }
 ],
 "metadata": {
  "kernelspec": {
   "display_name": "Python 2",
   "language": "python",
   "name": "python2"
  },
  "language_info": {
   "codemirror_mode": {
    "name": "ipython",
    "version": 2
   },
   "file_extension": ".py",
   "mimetype": "text/x-python",
   "name": "python",
   "nbconvert_exporter": "python",
   "pygments_lexer": "ipython2",
   "version": "2.7.10"
  }
 },
 "nbformat": 4,
 "nbformat_minor": 0
}
