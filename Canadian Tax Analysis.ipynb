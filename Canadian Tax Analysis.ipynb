{
 "cells": [
  {
   "cell_type": "code",
   "execution_count": 84,
   "metadata": {
    "collapsed": true
   },
   "outputs": [],
   "source": [
    "import numpy as np\n",
    "import pandas as pd\n",
    "from pandas import DataFrame, Series\n",
    "import seaborn as sns\n",
    "import collections\n",
    "import json"
   ]
  },
  {
   "cell_type": "code",
   "execution_count": 85,
   "metadata": {
    "collapsed": true
   },
   "outputs": [],
   "source": [
    "prov_ter = collections.OrderedDict()\n",
    "prov_ter = {\n",
    "    \"AB\",\n",
    "    \"BC\",\n",
    "    \"MB\",\n",
    "    \"NB\",\n",
    "    \"NL\",\n",
    "    \"NS\",\n",
    "    \"ON\",\n",
    "    \"PE\",\n",
    "    \"QC\",\n",
    "    \"SK\",\n",
    "    \"NT\",\n",
    "    \"YT\",\n",
    "    \"FED\"}\n",
    "\n",
    "fake_brackets_prov = [\n",
    "    (0, 15),\n",
    "    (40000, 22),\n",
    "    (90000, 26),\n",
    "    (140000, 29)\n",
    "]\n",
    "\n",
    "fake_brackets_fed = [\n",
    "    (0, 20),\n",
    "    (50000, 27),\n",
    "    (100000, 34),\n",
    "    (160000, 35)\n",
    "]\n",
    "years = xrange(1985, 2016)\n",
    "incomes = xrange(5000, 2000000, 5000)"
   ]
  },
  {
   "cell_type": "code",
   "execution_count": 86,
   "metadata": {
    "collapsed": false
   },
   "outputs": [],
   "source": [
    "tax_brackets = collections.OrderedDict()\n",
    "for x in years:\n",
    "    tax_brackets[str(x)] = {}"
   ]
  },
  {
   "cell_type": "code",
   "execution_count": 87,
   "metadata": {
    "collapsed": false,
    "scrolled": false
   },
   "outputs": [],
   "source": [
    "for year in tax_brackets:\n",
    "    for pt in prov_ter:\n",
    "        if pt != \"FED\":\n",
    "            tax_brackets[year][pt] = fake_brackets_prov\n",
    "        else:\n",
    "            tax_brackets[year][pt] = fake_brackets_fed\n",
    "\n",
    "for year in xrange(1999, 2016):\n",
    "    tax_brackets[str(year)][\"NU\"] = fake_brackets_prov"
   ]
  },
  {
   "cell_type": "code",
   "execution_count": 88,
   "metadata": {
    "collapsed": false
   },
   "outputs": [],
   "source": [
    "tb_json = json.dumps(tax_brackets)"
   ]
  },
  {
   "cell_type": "code",
   "execution_count": 89,
   "metadata": {
    "collapsed": false
   },
   "outputs": [],
   "source": [
    "file_object = open('HistoricalRates/historicalTaxRates.json', 'w')\n",
    "file_object.write(tb_json)\n",
    "file_object.close()"
   ]
  },
  {
   "cell_type": "code",
   "execution_count": 132,
   "metadata": {
    "collapsed": false
   },
   "outputs": [],
   "source": [
    "def findBracket(year, prov, income, brackets):\n",
    "    fed_brackets = brackets[year][\"FED\"]\n",
    "    prov_brackets = brackets[year][prov]\n",
    "    n = 0\n",
    "    \n",
    "    while (n < len(fed_brackets)) and (income >= fed_brackets[n][0] + 1):\n",
    "        n += 1\n",
    "    fed_tax = fed_brackets[n-1][1]\n",
    "    n = 0\n",
    "    \n",
    "    while (n < len(prov_brackets)) and (income >= prov_brackets[n][0] + 1):\n",
    "        n += 1\n",
    "    prov_tax = prov_brackets[n-1][1]\n",
    "    total_tax = fed_tax + prov_tax\n",
    "    return {\"fed\": fed_tax, \"prov\": prov_tax, \"total\": total_tax}"
   ]
  },
  {
   "cell_type": "code",
   "execution_count": 138,
   "metadata": {
    "collapsed": false
   },
   "outputs": [],
   "source": [
    "def allBracketsForYear(year, province, incomeList, brackets):\n",
    "    incomeTotals = collections.OrderedDict()\n",
    "    for income in incomeList:\n",
    "        taxes = findBracket(year, province, income, brackets)\n",
    "        incomeTotals[income] = taxes[\"total\"]\n",
    "    return incomeTotals\n",
    "totals = allBracketsForYear(\"2000\", \"NB\", incomes, tax_brackets)"
   ]
  },
  {
   "cell_type": "code",
   "execution_count": 91,
   "metadata": {
    "collapsed": false
   },
   "outputs": [
    {
     "ename": "IndentationError",
     "evalue": "expected an indented block (<ipython-input-91-b28fb56c0647>, line 5)",
     "output_type": "error",
     "traceback": [
      "\u001b[0;36m  File \u001b[0;32m\"<ipython-input-91-b28fb56c0647>\"\u001b[0;36m, line \u001b[0;32m5\u001b[0m\n\u001b[0;31m    # total_tax_year_provt[year][provt] =\u001b[0m\n\u001b[0m                                          ^\u001b[0m\n\u001b[0;31mIndentationError\u001b[0m\u001b[0;31m:\u001b[0m expected an indented block\n"
     ]
    }
   ],
   "source": [
    "total_tax_year_provt = collections.OrderedDict()\n",
    "for year in tax_brackets:\n",
    "    for provt in tax_brackets[year]:\n",
    "        if provt != \"FED\":\n",
    "            # total_tax_year_provt[year][provt] = "
   ]
  },
  {
   "cell_type": "code",
   "execution_count": null,
   "metadata": {
    "collapsed": false
   },
   "outputs": [],
   "source": []
  },
  {
   "cell_type": "code",
   "execution_count": null,
   "metadata": {
    "collapsed": true
   },
   "outputs": [],
   "source": []
  }
 ],
 "metadata": {
  "kernelspec": {
   "display_name": "Python 2",
   "language": "python",
   "name": "python2"
  },
  "language_info": {
   "codemirror_mode": {
    "name": "ipython",
    "version": 2
   },
   "file_extension": ".py",
   "mimetype": "text/x-python",
   "name": "python",
   "nbconvert_exporter": "python",
   "pygments_lexer": "ipython2",
   "version": "2.7.10"
  }
 },
 "nbformat": 4,
 "nbformat_minor": 0
}
