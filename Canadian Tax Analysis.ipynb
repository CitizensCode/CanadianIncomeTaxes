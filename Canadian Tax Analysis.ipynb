{
 "cells": [
  {
   "cell_type": "code",
   "execution_count": 1,
   "metadata": {
    "collapsed": true
   },
   "outputs": [],
   "source": [
    "import numpy as np\n",
    "import pandas as pd\n",
    "from pandas import DataFrame, Series\n",
    "import seaborn as sns\n",
    "import json"
   ]
  },
  {
   "cell_type": "code",
   "execution_count": 42,
   "metadata": {
    "collapsed": false,
    "scrolled": true
   },
   "outputs": [
    {
     "name": "stdout",
     "output_type": "stream",
     "text": [
      "9.68\n",
      "39305\n"
     ]
    }
   ],
   "source": [
    "with open('Data/incomeTax.json') as data_file:    \n",
    "    data = json.load(data_file)\n",
    "\n",
    "# Testing\n",
    "print data[0][\"data\"][\"New Brunswick\"][0][\"rate\"]\n",
    "print data[0][\"data\"][\"New Brunswick\"][0][\"upper\"]"
   ]
  },
  {
   "cell_type": "code",
   "execution_count": 89,
   "metadata": {
    "collapsed": false
   },
   "outputs": [],
   "source": [
    "def getAvgRate(location, income, data):\n",
    "    \n",
    "    def govtAvg(govt):\n",
    "        # Fetch the tax bracket data\n",
    "        brackets = data[govt]\n",
    "        untaxed_income = income # This will keep track of the part of the income that has not been taxed yet\n",
    "        tax_paid = 0.0 # A running total of the amount of tax paid\n",
    "        lower = 0 # The lower value of tax bracket\n",
    "        n = 0 # Keeps track of which tax bracket we're in\n",
    "        while untaxed_income > 0:\n",
    "            # Fetch the current bracket\n",
    "            bracket = brackets[n]\n",
    "            # This checks to see if we're on the final bracket\n",
    "            try:\n",
    "                upper = int(bracket[\"upper\"]) # Upper value of tax bracket\n",
    "                rate = float(bracket[\"rate\"])/100.0 # Tax rate of bracket\n",
    "            except:\n",
    "                upper = \"max\" # There is no upper value for the final bracket\n",
    "                rate = float(bracket[\"rate\"])/100.0\n",
    "\n",
    "            if upper == \"max\" or income < upper:\n",
    "                # Does the calculation for the final bracket the person falls into\n",
    "                tax_paid = tax_paid + untaxed_income*rate\n",
    "                untaxed_income = 0\n",
    "            else:\n",
    "                # Gets the tax paid on the brackets a person is totally above\n",
    "                tax_paid = tax_paid + (upper - lower)*rate\n",
    "                untaxed_income = untaxed_income - (upper - lower)\n",
    "                lower = upper\n",
    "                n = n + 1\n",
    "        # This is the average rate the person ends up paying\n",
    "        return round(tax_paid / income * 100.0, 2)\n",
    "    \n",
    "    avg_fed_tax = govtAvg(\"Federal\")\n",
    "    avg_prov_tax = govtAvg(location)\n",
    "    \n",
    "    avg_tax_total = round(avg_prov_tax + avg_fed_tax, 2)\n",
    "\n",
    "    return {str(income) : {\"avg_fed\": avg_fed_tax, \"avg_prov\": avg_prov_tax, \"avg_total\": avg_tax_total}}"
   ]
  },
  {
   "cell_type": "code",
   "execution_count": 90,
   "metadata": {
    "collapsed": false
   },
   "outputs": [],
   "source": [
    "# Gets the average tax paid for a number of incomes for a given province in a given year\n",
    "def provAvgs(province, year_data):\n",
    "    incomeList = xrange(10000, 250000, 10000)\n",
    "    return [getAvgRate(province, income, year_data) for income in incomeList]"
   ]
  },
  {
   "cell_type": "code",
   "execution_count": 99,
   "metadata": {
    "collapsed": false,
    "scrolled": true
   },
   "outputs": [
    {
     "data": {
      "text/plain": [
       "'{\"Ontario\": [{\"10000\": {\"avg_total\": 20.05, \"avg_prov\": 5.05, \"avg_fed\": 15.0}}, {\"20000\": {\"avg_total\": 20.05, \"avg_prov\": 5.05, \"avg_fed\": 15.0}}, {\"30000\": {\"avg_total\": 20.05, \"avg_prov\": 5.05, \"avg_fed\": 15.0}}, {\"40000\": {\"avg_total\": 20.05, \"avg_prov\": 5.05, \"avg_fed\": 15.0}}, {\"50000\": {\"avg_total\": 21.71, \"avg_prov\": 5.86, \"avg_fed\": 15.85}}, {\"60000\": {\"avg_total\": 23.28, \"avg_prov\": 6.41, \"avg_fed\": 16.87}}, {\"70000\": {\"avg_total\": 24.4, \"avg_prov\": 6.8, \"avg_fed\": 17.6}}, {\"80000\": {\"avg_total\": 25.24, \"avg_prov\": 7.09, \"avg_fed\": 18.15}}, {\"90000\": {\"avg_total\": 26.21, \"avg_prov\": 7.54, \"avg_fed\": 18.67}}, {\"100000\": {\"avg_total\": 27.31, \"avg_prov\": 7.9, \"avg_fed\": 19.41}}, {\"110000\": {\"avg_total\": 28.21, \"avg_prov\": 8.2, \"avg_fed\": 20.01}}, {\"120000\": {\"avg_total\": 28.96, \"avg_prov\": 8.45, \"avg_fed\": 20.51}}, {\"130000\": {\"avg_total\": 29.58, \"avg_prov\": 8.65, \"avg_fed\": 20.93}}, {\"140000\": {\"avg_total\": 30.2, \"avg_prov\": 8.83, \"avg_fed\": 21.37}}, {\"150000\": {\"avg_total\": 30.87, \"avg_prov\": 8.99, \"avg_fed\": 21.88}}, {\"160000\": {\"avg_total\": 31.51, \"avg_prov\": 9.19, \"avg_fed\": 22.32}}, {\"170000\": {\"avg_total\": 32.08, \"avg_prov\": 9.36, \"avg_fed\": 22.72}}, {\"180000\": {\"avg_total\": 32.59, \"avg_prov\": 9.52, \"avg_fed\": 23.07}}, {\"190000\": {\"avg_total\": 33.04, \"avg_prov\": 9.66, \"avg_fed\": 23.38}}, {\"200000\": {\"avg_total\": 33.44, \"avg_prov\": 9.78, \"avg_fed\": 23.66}}, {\"210000\": {\"avg_total\": 33.8, \"avg_prov\": 9.89, \"avg_fed\": 23.91}}, {\"220000\": {\"avg_total\": 34.14, \"avg_prov\": 10.0, \"avg_fed\": 24.14}}, {\"230000\": {\"avg_total\": 34.49, \"avg_prov\": 10.13, \"avg_fed\": 24.36}}, {\"240000\": {\"avg_total\": 34.81, \"avg_prov\": 10.26, \"avg_fed\": 24.55}}], \"Newfoundland and Labrador\": [{\"10000\": {\"avg_total\": 22.7, \"avg_prov\": 7.7, \"avg_fed\": 15.0}}, {\"20000\": {\"avg_total\": 22.7, \"avg_prov\": 7.7, \"avg_fed\": 15.0}}, {\"30000\": {\"avg_total\": 22.7, \"avg_prov\": 7.7, \"avg_fed\": 15.0}}, {\"40000\": {\"avg_total\": 23.39, \"avg_prov\": 8.39, \"avg_fed\": 15.0}}, {\"50000\": {\"avg_total\": 25.06, \"avg_prov\": 9.21, \"avg_fed\": 15.85}}, {\"60000\": {\"avg_total\": 26.63, \"avg_prov\": 9.76, \"avg_fed\": 16.87}}, {\"70000\": {\"avg_total\": 27.77, \"avg_prov\": 10.17, \"avg_fed\": 17.6}}, {\"80000\": {\"avg_total\": 28.71, \"avg_prov\": 10.56, \"avg_fed\": 18.15}}, {\"90000\": {\"avg_total\": 29.53, \"avg_prov\": 10.86, \"avg_fed\": 18.67}}, {\"100000\": {\"avg_total\": 30.52, \"avg_prov\": 11.11, \"avg_fed\": 19.41}}, {\"110000\": {\"avg_total\": 31.32, \"avg_prov\": 11.31, \"avg_fed\": 20.01}}, {\"120000\": {\"avg_total\": 31.98, \"avg_prov\": 11.47, \"avg_fed\": 20.51}}, {\"130000\": {\"avg_total\": 32.54, \"avg_prov\": 11.61, \"avg_fed\": 20.93}}, {\"140000\": {\"avg_total\": 33.1, \"avg_prov\": 11.73, \"avg_fed\": 21.37}}, {\"150000\": {\"avg_total\": 33.72, \"avg_prov\": 11.84, \"avg_fed\": 21.88}}, {\"160000\": {\"avg_total\": 34.25, \"avg_prov\": 11.93, \"avg_fed\": 22.32}}, {\"170000\": {\"avg_total\": 34.73, \"avg_prov\": 12.01, \"avg_fed\": 22.72}}, {\"180000\": {\"avg_total\": 35.15, \"avg_prov\": 12.08, \"avg_fed\": 23.07}}, {\"190000\": {\"avg_total\": 35.53, \"avg_prov\": 12.15, \"avg_fed\": 23.38}}, {\"200000\": {\"avg_total\": 35.86, \"avg_prov\": 12.2, \"avg_fed\": 23.66}}, {\"210000\": {\"avg_total\": 36.17, \"avg_prov\": 12.26, \"avg_fed\": 23.91}}, {\"220000\": {\"avg_total\": 36.44, \"avg_prov\": 12.3, \"avg_fed\": 24.14}}, {\"230000\": {\"avg_total\": 36.71, \"avg_prov\": 12.35, \"avg_fed\": 24.36}}, {\"240000\": {\"avg_total\": 36.94, \"avg_prov\": 12.39, \"avg_fed\": 24.55}}], \"Federal\": [{\"10000\": {\"avg_total\": 30.0, \"avg_prov\": 15.0, \"avg_fed\": 15.0}}, {\"20000\": {\"avg_total\": 30.0, \"avg_prov\": 15.0, \"avg_fed\": 15.0}}, {\"30000\": {\"avg_total\": 30.0, \"avg_prov\": 15.0, \"avg_fed\": 15.0}}, {\"40000\": {\"avg_total\": 30.0, \"avg_prov\": 15.0, \"avg_fed\": 15.0}}, {\"50000\": {\"avg_total\": 31.7, \"avg_prov\": 15.85, \"avg_fed\": 15.85}}, {\"60000\": {\"avg_total\": 33.74, \"avg_prov\": 16.87, \"avg_fed\": 16.87}}, {\"70000\": {\"avg_total\": 35.2, \"avg_prov\": 17.6, \"avg_fed\": 17.6}}, {\"80000\": {\"avg_total\": 36.3, \"avg_prov\": 18.15, \"avg_fed\": 18.15}}, {\"90000\": {\"avg_total\": 37.34, \"avg_prov\": 18.67, \"avg_fed\": 18.67}}, {\"100000\": {\"avg_total\": 38.82, \"avg_prov\": 19.41, \"avg_fed\": 19.41}}, {\"110000\": {\"avg_total\": 40.02, \"avg_prov\": 20.01, \"avg_fed\": 20.01}}, {\"120000\": {\"avg_total\": 41.02, \"avg_prov\": 20.51, \"avg_fed\": 20.51}}, {\"130000\": {\"avg_total\": 41.86, \"avg_prov\": 20.93, \"avg_fed\": 20.93}}, {\"140000\": {\"avg_total\": 42.74, \"avg_prov\": 21.37, \"avg_fed\": 21.37}}, {\"150000\": {\"avg_total\": 43.76, \"avg_prov\": 21.88, \"avg_fed\": 21.88}}, {\"160000\": {\"avg_total\": 44.64, \"avg_prov\": 22.32, \"avg_fed\": 22.32}}, {\"170000\": {\"avg_total\": 45.44, \"avg_prov\": 22.72, \"avg_fed\": 22.72}}, {\"180000\": {\"avg_total\": 46.14, \"avg_prov\": 23.07, \"avg_fed\": 23.07}}, {\"190000\": {\"avg_total\": 46.76, \"avg_prov\": 23.38, \"avg_fed\": 23.38}}, {\"200000\": {\"avg_total\": 47.32, \"avg_prov\": 23.66, \"avg_fed\": 23.66}}, {\"210000\": {\"avg_total\": 47.82, \"avg_prov\": 23.91, \"avg_fed\": 23.91}}, {\"220000\": {\"avg_total\": 48.28, \"avg_prov\": 24.14, \"avg_fed\": 24.14}}, {\"230000\": {\"avg_total\": 48.72, \"avg_prov\": 24.36, \"avg_fed\": 24.36}}, {\"240000\": {\"avg_total\": 49.1, \"avg_prov\": 24.55, \"avg_fed\": 24.55}}], \"Prince Edward Island\": [{\"10000\": {\"avg_total\": 24.8, \"avg_prov\": 9.8, \"avg_fed\": 15.0}}, {\"20000\": {\"avg_total\": 24.8, \"avg_prov\": 9.8, \"avg_fed\": 15.0}}, {\"30000\": {\"avg_total\": 24.8, \"avg_prov\": 9.8, \"avg_fed\": 15.0}}, {\"40000\": {\"avg_total\": 25.6, \"avg_prov\": 10.6, \"avg_fed\": 15.0}}, {\"50000\": {\"avg_total\": 27.09, \"avg_prov\": 11.24, \"avg_fed\": 15.85}}, {\"60000\": {\"avg_total\": 28.54, \"avg_prov\": 11.67, \"avg_fed\": 16.87}}, {\"70000\": {\"avg_total\": 29.82, \"avg_prov\": 12.22, \"avg_fed\": 17.6}}, {\"80000\": {\"avg_total\": 30.93, \"avg_prov\": 12.78, \"avg_fed\": 18.15}}, {\"90000\": {\"avg_total\": 31.89, \"avg_prov\": 13.22, \"avg_fed\": 18.67}}, {\"100000\": {\"avg_total\": 32.98, \"avg_prov\": 13.57, \"avg_fed\": 19.41}}, {\"110000\": {\"avg_total\": 33.86, \"avg_prov\": 13.85, \"avg_fed\": 20.01}}, {\"120000\": {\"avg_total\": 34.6, \"avg_prov\": 14.09, \"avg_fed\": 20.51}}, {\"130000\": {\"avg_total\": 35.22, \"avg_prov\": 14.29, \"avg_fed\": 20.93}}, {\"140000\": {\"avg_total\": 35.83, \"avg_prov\": 14.46, \"avg_fed\": 21.37}}, {\"150000\": {\"avg_total\": 36.49, \"avg_prov\": 14.61, \"avg_fed\": 21.88}}, {\"160000\": {\"avg_total\": 37.06, \"avg_prov\": 14.74, \"avg_fed\": 22.32}}, {\"170000\": {\"avg_total\": 37.58, \"avg_prov\": 14.86, \"avg_fed\": 22.72}}, {\"180000\": {\"avg_total\": 38.03, \"avg_prov\": 14.96, \"avg_fed\": 23.07}}, {\"190000\": {\"avg_total\": 38.43, \"avg_prov\": 15.05, \"avg_fed\": 23.38}}, {\"200000\": {\"avg_total\": 38.79, \"avg_prov\": 15.13, \"avg_fed\": 23.66}}, {\"210000\": {\"avg_total\": 39.12, \"avg_prov\": 15.21, \"avg_fed\": 23.91}}, {\"220000\": {\"avg_total\": 39.42, \"avg_prov\": 15.28, \"avg_fed\": 24.14}}, {\"230000\": {\"avg_total\": 39.7, \"avg_prov\": 15.34, \"avg_fed\": 24.36}}, {\"240000\": {\"avg_total\": 39.94, \"avg_prov\": 15.39, \"avg_fed\": 24.55}}], \"Nova Scotia\": [{\"10000\": {\"avg_total\": 23.79, \"avg_prov\": 8.79, \"avg_fed\": 15.0}}, {\"20000\": {\"avg_total\": 23.79, \"avg_prov\": 8.79, \"avg_fed\": 15.0}}, {\"30000\": {\"avg_total\": 23.87, \"avg_prov\": 8.87, \"avg_fed\": 15.0}}, {\"40000\": {\"avg_total\": 25.39, \"avg_prov\": 10.39, \"avg_fed\": 15.0}}, {\"50000\": {\"avg_total\": 27.15, \"avg_prov\": 11.3, \"avg_fed\": 15.85}}, {\"60000\": {\"avg_total\": 28.81, \"avg_prov\": 11.94, \"avg_fed\": 16.87}}, {\"70000\": {\"avg_total\": 30.21, \"avg_prov\": 12.61, \"avg_fed\": 17.6}}, {\"80000\": {\"avg_total\": 31.27, \"avg_prov\": 13.12, \"avg_fed\": 18.15}}, {\"90000\": {\"avg_total\": 32.18, \"avg_prov\": 13.51, \"avg_fed\": 18.67}}, {\"100000\": {\"avg_total\": 33.3, \"avg_prov\": 13.89, \"avg_fed\": 19.41}}, {\"110000\": {\"avg_total\": 34.23, \"avg_prov\": 14.22, \"avg_fed\": 20.01}}, {\"120000\": {\"avg_total\": 35.0, \"avg_prov\": 14.49, \"avg_fed\": 20.51}}, {\"130000\": {\"avg_total\": 35.65, \"avg_prov\": 14.72, \"avg_fed\": 20.93}}, {\"140000\": {\"avg_total\": 36.29, \"avg_prov\": 14.92, \"avg_fed\": 21.37}}, {\"150000\": {\"avg_total\": 36.97, \"avg_prov\": 15.09, \"avg_fed\": 21.88}}, {\"160000\": {\"avg_total\": 37.78, \"avg_prov\": 15.46, \"avg_fed\": 22.32}}, {\"170000\": {\"avg_total\": 38.51, \"avg_prov\": 15.79, \"avg_fed\": 22.72}}, {\"180000\": {\"avg_total\": 39.15, \"avg_prov\": 16.08, \"avg_fed\": 23.07}}, {\"190000\": {\"avg_total\": 39.72, \"avg_prov\": 16.34, \"avg_fed\": 23.38}}, {\"200000\": {\"avg_total\": 40.23, \"avg_prov\": 16.57, \"avg_fed\": 23.66}}, {\"210000\": {\"avg_total\": 40.69, \"avg_prov\": 16.78, \"avg_fed\": 23.91}}, {\"220000\": {\"avg_total\": 41.11, \"avg_prov\": 16.97, \"avg_fed\": 24.14}}, {\"230000\": {\"avg_total\": 41.51, \"avg_prov\": 17.15, \"avg_fed\": 24.36}}, {\"240000\": {\"avg_total\": 41.86, \"avg_prov\": 17.31, \"avg_fed\": 24.55}}], \"New Brunswick\": [{\"10000\": {\"avg_total\": 24.68, \"avg_prov\": 9.68, \"avg_fed\": 15.0}}, {\"20000\": {\"avg_total\": 24.68, \"avg_prov\": 9.68, \"avg_fed\": 15.0}}, {\"30000\": {\"avg_total\": 24.68, \"avg_prov\": 9.68, \"avg_fed\": 15.0}}, {\"40000\": {\"avg_total\": 24.77, \"avg_prov\": 9.77, \"avg_fed\": 15.0}}, {\"50000\": {\"avg_total\": 26.63, \"avg_prov\": 10.78, \"avg_fed\": 15.85}}, {\"60000\": {\"avg_total\": 28.32, \"avg_prov\": 11.45, \"avg_fed\": 16.87}}, {\"70000\": {\"avg_total\": 29.53, \"avg_prov\": 11.93, \"avg_fed\": 17.6}}, {\"80000\": {\"avg_total\": 30.47, \"avg_prov\": 12.32, \"avg_fed\": 18.15}}, {\"90000\": {\"avg_total\": 31.46, \"avg_prov\": 12.79, \"avg_fed\": 18.67}}, {\"100000\": {\"avg_total\": 32.57, \"avg_prov\": 13.16, \"avg_fed\": 19.41}}, {\"110000\": {\"avg_total\": 33.48, \"avg_prov\": 13.47, \"avg_fed\": 20.01}}, {\"120000\": {\"avg_total\": 34.23, \"avg_prov\": 13.72, \"avg_fed\": 20.51}}, {\"130000\": {\"avg_total\": 34.89, \"avg_prov\": 13.96, \"avg_fed\": 20.93}}, {\"140000\": {\"avg_total\": 35.61, \"avg_prov\": 14.24, \"avg_fed\": 21.37}}, {\"150000\": {\"avg_total\": 36.36, \"avg_prov\": 14.48, \"avg_fed\": 21.88}}, {\"160000\": {\"avg_total\": 37.01, \"avg_prov\": 14.69, \"avg_fed\": 22.32}}, {\"170000\": {\"avg_total\": 37.59, \"avg_prov\": 14.87, \"avg_fed\": 22.72}}, {\"180000\": {\"avg_total\": 38.11, \"avg_prov\": 15.04, \"avg_fed\": 23.07}}, {\"190000\": {\"avg_total\": 38.57, \"avg_prov\": 15.19, \"avg_fed\": 23.38}}, {\"200000\": {\"avg_total\": 38.98, \"avg_prov\": 15.32, \"avg_fed\": 23.66}}, {\"210000\": {\"avg_total\": 39.35, \"avg_prov\": 15.44, \"avg_fed\": 23.91}}, {\"220000\": {\"avg_total\": 39.69, \"avg_prov\": 15.55, \"avg_fed\": 24.14}}, {\"230000\": {\"avg_total\": 40.01, \"avg_prov\": 15.65, \"avg_fed\": 24.36}}, {\"240000\": {\"avg_total\": 40.29, \"avg_prov\": 15.74, \"avg_fed\": 24.55}}]}'"
      ]
     },
     "execution_count": 99,
     "metadata": {},
     "output_type": "execute_result"
    }
   ],
   "source": [
    "year_data = year_record[\"data\"]\n",
    "def processYear(year_data):\n",
    "    provYearData = {}\n",
    "    for province, brackets in year_data.iteritems():\n",
    "        provYearData[province] = provAvgs(province, year_data)\n",
    "    return provYearData"
   ]
  },
  {
   "cell_type": "code",
   "execution_count": 72,
   "metadata": {
    "collapsed": false
   },
   "outputs": [
    {
     "name": "stdout",
     "output_type": "stream",
     "text": [
      "2014\n"
     ]
    }
   ],
   "source": [
    "for year_record in data:\n",
    "    year = year_record[\"year\"]\n",
    "    year_data = year_record[\"data\"]\n",
    "    avgs = "
   ]
  },
  {
   "cell_type": "code",
   "execution_count": 100,
   "metadata": {
    "collapsed": false
   },
   "outputs": [],
   "source": [
    "# For testing the above funciton\n",
    "year = data[0][\"year\"]\n",
    "year_data = data[0][\"data\"]\n",
    "tax = provAvgs(\"Nova Scotia\", year_data)"
   ]
  },
  {
   "cell_type": "code",
   "execution_count": 71,
   "metadata": {
    "collapsed": true
   },
   "outputs": [
    {
     "data": {
      "text/plain": [
       "[{u'data': {u'Federal': [{u'rate': u'15', u'upper': u'43953'},\n",
       "    {u'rate': u'22', u'upper': u'87907'},\n",
       "    {u'rate': u'26', u'upper': u'136270'},\n",
       "    {u'rate': u'29', u'upper': u'Above'}],\n",
       "   u'New Brunswick': [{u'rate': u'9.68', u'upper': u'39305'},\n",
       "    {u'rate': u'14.82', u'upper': u'78609'},\n",
       "    {u'rate': u'16.52', u'upper': u'127802'},\n",
       "    {u'rate': u'17.84', u'upper': u'Above'}],\n",
       "   u'Newfoundland and Labrador': [{u'rate': u'7.7', u'upper': u'34254'},\n",
       "    {u'rate': u'12.5', u'upper': u'68508'},\n",
       "    {u'rate': u'13.3', u'upper': u'Above'}],\n",
       "   u'Nova Scotia': [{u'rate': u'8.79', u'upper': u'29590'},\n",
       "    {u'rate': u'14.95', u'upper': u'59180'},\n",
       "    {u'rate': u'16.67', u'upper': u'93000'},\n",
       "    {u'rate': u'17.5', u'upper': u'150000'},\n",
       "    {u'rate': u'21', u'upper': u'Above'}],\n",
       "   u'Ontario': [{u'rate': u'5.05', u'upper': u'40120'},\n",
       "    {u'rate': u'9.15', u'upper': u'80242'},\n",
       "    {u'rate': u'11.16', u'upper': u'150000'},\n",
       "    {u'rate': u'12.16', u'upper': u'220000'},\n",
       "    {u'rate': u'13.16', u'upper': u'Above'}],\n",
       "   u'Prince Edward Island': [{u'rate': u'9.8', u'upper': u'31984'},\n",
       "    {u'rate': u'13.8', u'upper': u'63969'},\n",
       "    {u'rate': u'16.7', u'upper': u'Above'}]},\n",
       "  u'year': u'2014'}]"
      ]
     },
     "execution_count": 71,
     "metadata": {},
     "output_type": "execute_result"
    }
   ],
   "source": [
    "data"
   ]
  },
  {
   "cell_type": "code",
   "execution_count": null,
   "metadata": {
    "collapsed": true
   },
   "outputs": [],
   "source": []
  }
 ],
 "metadata": {
  "kernelspec": {
   "display_name": "Python 2",
   "language": "python",
   "name": "python2"
  },
  "language_info": {
   "codemirror_mode": {
    "name": "ipython",
    "version": 2
   },
   "file_extension": ".py",
   "mimetype": "text/x-python",
   "name": "python",
   "nbconvert_exporter": "python",
   "pygments_lexer": "ipython2",
   "version": "2.7.10"
  }
 },
 "nbformat": 4,
 "nbformat_minor": 0
}
