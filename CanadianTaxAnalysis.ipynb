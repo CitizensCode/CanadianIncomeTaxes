{
 "cells": [
  {
   "cell_type": "code",
   "execution_count": 2,
   "metadata": {
    "collapsed": false
   },
   "outputs": [
    {
     "name": "stderr",
     "output_type": "stream",
     "text": [
      "/Users/B/anaconda2/lib/python2.7/site-packages/matplotlib/font_manager.py:273: UserWarning: Matplotlib is building the font cache using fc-list. This may take a moment.\n",
      "  warnings.warn('Matplotlib is building the font cache using fc-list. This may take a moment.')\n"
     ]
    },
    {
     "data": {
      "text/plain": [
       "'en_US'"
      ]
     },
     "execution_count": 2,
     "metadata": {},
     "output_type": "execute_result"
    }
   ],
   "source": [
    "import numpy as np\n",
    "import pandas as pd\n",
    "from pandas import DataFrame, Series\n",
    "import seaborn as sns\n",
    "import json\n",
    "import locale\n",
    "locale.setlocale(locale.LC_ALL, 'en_US')\n",
    "# import matplotlib.pyplot as plt\n",
    "# %matplotlib inline"
   ]
  },
  {
   "cell_type": "code",
   "execution_count": 3,
   "metadata": {
    "collapsed": false,
    "scrolled": true
   },
   "outputs": [
    {
     "name": "stdout",
     "output_type": "stream",
     "text": [
      "9.68\n",
      "32730\n"
     ]
    }
   ],
   "source": [
    "with open('web/data/incomeTax.json') as data_file:    \n",
    "    data = json.load(data_file)\n",
    "\n",
    "# Testing\n",
    "print data[0][\"data\"][\"New Brunswick\"][\"brackets\"][0][\"rate\"]\n",
    "print data[0][\"data\"][\"New Brunswick\"][\"brackets\"][0][\"upper\"]"
   ]
  },
  {
   "cell_type": "code",
   "execution_count": 11,
   "metadata": {
    "collapsed": false
   },
   "outputs": [],
   "source": [
    "def getAvgRate(location, income, data):\n",
    "    \n",
    "    def govtTaxAmount(govt):\n",
    "        # Fetch the tax bracket data\n",
    "        brackets = data[govt][\"brackets\"]\n",
    "        untaxed_income = income # This will keep track of the part of the income that has not been taxed yet\n",
    "        tax_paid = 0.0 # A running total of the amount of tax paid\n",
    "        lower = 0 # The lower value of tax bracket\n",
    "        n = 0 # Keeps track of which tax bracket we're in\n",
    "        while untaxed_income > 0:\n",
    "            # Fetch the current bracket\n",
    "            bracket = brackets[n]\n",
    "            # This checks to see if we're on the final bracket\n",
    "            try:\n",
    "                upper = int(bracket[\"upper\"]) # Upper value of tax bracket\n",
    "                rate = float(bracket[\"rate\"])/100.0 # Tax rate of bracket\n",
    "            except:\n",
    "                upper = \"max\" # There is no upper value for the final bracket\n",
    "                rate = float(bracket[\"rate\"])/100.0\n",
    "\n",
    "            if upper == \"max\" or income < upper:\n",
    "                # Does the calculation for the final bracket the person falls into\n",
    "                # print untaxed_income\n",
    "                tax_paid = tax_paid + untaxed_income*rate\n",
    "                # print tax_paid\n",
    "                untaxed_income = 0\n",
    "            else:\n",
    "                # Gets the tax paid on the brackets a person is totally above\n",
    "                tax_paid = tax_paid + (upper - lower)*rate\n",
    "                # print tax_paid\n",
    "                untaxed_income = untaxed_income - (upper - lower)\n",
    "                lower = upper\n",
    "                n = n + 1\n",
    "        # This is the average rate the person ends up paying\n",
    "        # Quebec abatement adjustment: http://www.fin.gc.ca/fedprov/altpay-eng.asp\n",
    "        if (location == \"Quebec\" and govt == \"Federal\"):\n",
    "            tax_paid = tax_paid*0.835\n",
    "        return tax_paid\n",
    "    \n",
    "    # Get the base amount of tax that you pay\n",
    "    fed_tax = govtTaxAmount(\"Federal\")\n",
    "    if (location != \"Federal\"):\n",
    "        prov_tax = govtTaxAmount(location)\n",
    "    else:\n",
    "        prov_tax = 0\n",
    "    # A function for deducting the personal exemption amount federally and provincially\n",
    "    def govtCredits(govt):\n",
    "        credit = data[govt][\"credits\"][0]\n",
    "        credit_amount = int(credit[\"amount\"])*float(credit[\"percent\"])/100.0\n",
    "        # Quebec abatement adjustment: http://www.fin.gc.ca/fedprov/altpay-eng.asp\n",
    "        if (location == \"Quebec\" and govt == \"Federal\"):\n",
    "            credit_amount = credit_amount*0.835\n",
    "        return credit_amount\n",
    "    \n",
    "    # Subtract the tax credits\n",
    "    fed_tax = fed_tax - govtCredits(\"Federal\")\n",
    "    if (location != \"Federal\"):\n",
    "        prov_tax = prov_tax - govtCredits(location)\n",
    "    else:\n",
    "        prov_tax = 0\n",
    "    \n",
    "    # If you have any surtaxes to pay, this takes that into account\n",
    "    try:\n",
    "        # Get the surtaxes. Throws an error if there are none.\n",
    "        surtaxes = data[location][\"surtaxes\"]\n",
    "        prov_tax_with_surtax = prov_tax\n",
    "        for surtax in surtaxes:\n",
    "            lower_limit = int(surtax[\"lower\"])\n",
    "            rate = float(surtax[\"rate\"])/100.0\n",
    "            # If the amount of tax you pay is above the lower limit for each surtax,\n",
    "            # add the amont of surtax you have to pay to the running total\n",
    "            if prov_tax_after_credit > lower_limit:\n",
    "                prov_tax_with_surtax += (prov_tax_after_credit - lower_limit) * rate\n",
    "        prov_tax = prov_tax_with_surtax\n",
    "    except:\n",
    "        pass\n",
    "    \n",
    "    # Adds the amount for the health fee that some provinces have\n",
    "    try:\n",
    "        health_fee = 0\n",
    "        # Get the health fee, or throw an error if there are none\n",
    "        health_brackets = data[location][\"healthfee\"]\n",
    "        for bracket in health_brackets:\n",
    "            lower = int(bracket[\"lower\"])\n",
    "            upper = int(bracket[\"upper\"])\n",
    "            value = int(bracket[\"value\"])\n",
    "            rate = float(bracket[\"rate\"])\n",
    "            if (income >= lower) and (income <= upper):\n",
    "                health_fee = health_fee + value\n",
    "                health_fee = health_fee + (income - lower - 1) * rate / 100.0\n",
    "                prov_tax = prov_tax + health_fee\n",
    "    except:\n",
    "        pass\n",
    "    \n",
    "    # This is for the special health fee that quebec has\n",
    "    try:\n",
    "        health_fee = 0\n",
    "        # Get the health fee, or throw an error if there are none\n",
    "        health_brackets = data[location][\"healthfeeqc\"]\n",
    "        for bracket in health_brackets:\n",
    "            lower = int(bracket[\"lower\"])\n",
    "            upper = int(bracket[\"upper\"])\n",
    "            value = float(bracket[\"value\"])\n",
    "            rate = float(bracket[\"rate\"])\n",
    "            max_amount = float(bracket[\"max\"])\n",
    "            if (income >= lower) and (income <= upper):\n",
    "                health_fee = health_fee + value\n",
    "                health_fee = health_fee + (income - lower - 1) * rate / 100.0\n",
    "                # Limit the tax to the upper bound\n",
    "                if (health_fee > max_amount):\n",
    "                    health_fee = max_amount\n",
    "                prov_tax = prov_tax + health_fee\n",
    "    except:\n",
    "        pass\n",
    "    \n",
    "    # Quebec has different rates for cpp and EI\n",
    "    if (location != \"Quebec\"):\n",
    "        cpp = data[\"Federal\"][\"cpp\"]\n",
    "        ei = data[\"Federal\"][\"ei\"]\n",
    "    else:\n",
    "        cpp = data[\"Quebec\"][\"cpp\"]\n",
    "        ei = data[\"Quebec\"][\"ei\"]\n",
    "        \n",
    "    # Adds the CPP tax\n",
    "    max_income = int(cpp[\"maxIncome\"])\n",
    "    exemption = int(cpp[\"exemption\"])\n",
    "    rate = float(cpp[\"rate\"])\n",
    "    if (income > max_income):\n",
    "        pen_income = max_income\n",
    "    else:\n",
    "        pen_income = income\n",
    "    pen_income = pen_income - exemption\n",
    "    cpp_amount = pen_income * rate / 100.0\n",
    "    fed_tax = fed_tax + cpp_amount\n",
    "    \n",
    "    # Adds the EI tax\n",
    "    max_income = int(ei[\"maxIncome\"])\n",
    "    rate = float(ei[\"rate\"])\n",
    "    if (income > max_income):\n",
    "        ei_income = max_income\n",
    "    else:\n",
    "        ei_income = income\n",
    "    ei_amount = ei_income * rate / 100.0\n",
    "    fed_tax = fed_tax + ei_amount\n",
    "    \n",
    "    # Adds the Quebec Parental Insurance Plan\n",
    "    if (location == \"Quebec\"):\n",
    "        try:\n",
    "            qpip = data[\"Quebec\"][\"qpip\"]\n",
    "            max_income = int(qpip[\"maxIncome\"])\n",
    "            rate = float(qpip[\"rate\"])\n",
    "\n",
    "            if (income > max_income):\n",
    "                qpip_income = max_income\n",
    "            else:\n",
    "                qpip_income = income\n",
    "\n",
    "            qpip_amount = qpip_income * rate / 100.0\n",
    "            prov_tax = prov_tax + qpip_amount\n",
    "        except:\n",
    "            pass\n",
    "    \n",
    "    # Calculate the percentage tax, and return 0 if it is negative\n",
    "    avg_fed_tax = max(round(fed_tax / income * 100, 2), 0)\n",
    "    avg_prov_tax = max(round(prov_tax / income * 100, 2), 0)\n",
    "    avg_tax_total = max(round(avg_prov_tax + avg_fed_tax, 2), 0)\n",
    "\n",
    "    return {str(income) : {\"avg_fed\": avg_fed_tax, \"avg_prov\": avg_prov_tax, \"avg_total\": avg_tax_total}}"
   ]
  },
  {
   "cell_type": "code",
   "execution_count": 12,
   "metadata": {
    "collapsed": false
   },
   "outputs": [],
   "source": [
    "### Testing\n",
    "# getAvgRate(\"New Brunswick\", 65000, data[3][\"data\"])"
   ]
  },
  {
   "cell_type": "code",
   "execution_count": 13,
   "metadata": {
    "collapsed": false
   },
   "outputs": [],
   "source": [
    "from itertools import chain\n",
    "# Gets the average tax paid for a number of incomes for a given province in a given year\n",
    "def provAvgs(province, year_data, year):\n",
    "    incomeList = chain(range(1000, 10000, 100), range(10000, 60000, 1000), range(60000, 505000, 5000))\n",
    "    return [getAvgRate(province, income, year_data) for income in incomeList]"
   ]
  },
  {
   "cell_type": "code",
   "execution_count": 14,
   "metadata": {
    "collapsed": false,
    "scrolled": true
   },
   "outputs": [],
   "source": [
    "def processYear(year_data, year):\n",
    "    year_result = {}\n",
    "    for province, brackets in year_data.iteritems():\n",
    "        year_result[province] = provAvgs(province, year_data, year)\n",
    "    return year_result"
   ]
  },
  {
   "cell_type": "markdown",
   "metadata": {},
   "source": [
    "## Create a Dictionary for the Data"
   ]
  },
  {
   "cell_type": "code",
   "execution_count": 15,
   "metadata": {
    "collapsed": false
   },
   "outputs": [],
   "source": [
    "allData = {}\n",
    "for year_record in data:\n",
    "    year = year_record[\"year\"]\n",
    "    year_data = year_record[\"data\"]\n",
    "    allData[year] = processYear(year_data, year)\n",
    "# print allData"
   ]
  },
  {
   "cell_type": "markdown",
   "metadata": {},
   "source": [
    "## Create a Dimensional Dataframe\n",
    "### Combined Federal and Provincial Rate"
   ]
  },
  {
   "cell_type": "code",
   "execution_count": 16,
   "metadata": {
    "collapsed": false,
    "scrolled": true
   },
   "outputs": [],
   "source": [
    "# Convert the results into an object that can be visualized\n",
    "# with each province representing a line, the income as the x-value\n",
    "# and the avg tax as the y-value\n",
    "def createYearDfCombined(year):\n",
    "    year_prov_avgs = allData[year]\n",
    "    year_dict = {}\n",
    "    for prov, income_data in year_prov_avgs.iteritems():\n",
    "        prov_dict = {}\n",
    "        for income_record in income_data:\n",
    "            income = income_record.keys()[0]\n",
    "            avg_tax = income_record.values()[0]['avg_total']\n",
    "            prov_dict[int(income)] = avg_tax\n",
    "        prov_series = Series(prov_dict)\n",
    "        year_dict[prov] = prov_series\n",
    "    # Convert the dictionary to a dataframe\n",
    "    year_df = pd.concat(year_dict, axis=1)\n",
    "    # Drop the Federal column since we're only interested in combined rates\n",
    "    year_df = year_df.drop('Federal', axis=1)\n",
    "    # Assign the year to a column to use in a dimensional model later\n",
    "    year_df[\"Year\"] = year\n",
    "    # Get the income out of the index so that we can use it in a dimensional model later\n",
    "    year_df = year_df.reset_index(level=0)\n",
    "    year_df = year_df.rename(columns={\"index\": \"Income\"})\n",
    "    return year_df"
   ]
  },
  {
   "cell_type": "code",
   "execution_count": 17,
   "metadata": {
    "collapsed": false,
    "scrolled": true
   },
   "outputs": [
    {
     "data": {
      "text/html": [
       "<div>\n",
       "<table border=\"1\" class=\"dataframe\">\n",
       "  <thead>\n",
       "    <tr style=\"text-align: right;\">\n",
       "      <th></th>\n",
       "      <th>Year</th>\n",
       "      <th>Income</th>\n",
       "      <th>Province</th>\n",
       "      <th>Average Income Tax</th>\n",
       "    </tr>\n",
       "  </thead>\n",
       "  <tbody>\n",
       "    <tr>\n",
       "      <th>885</th>\n",
       "      <td>2005</td>\n",
       "      <td>350000</td>\n",
       "      <td>New Brunswick</td>\n",
       "      <td>43.28</td>\n",
       "    </tr>\n",
       "    <tr>\n",
       "      <th>3862</th>\n",
       "      <td>2014</td>\n",
       "      <td>350000</td>\n",
       "      <td>New Brunswick</td>\n",
       "      <td>42.56</td>\n",
       "    </tr>\n",
       "    <tr>\n",
       "      <th>6839</th>\n",
       "      <td>2015</td>\n",
       "      <td>350000</td>\n",
       "      <td>New Brunswick</td>\n",
       "      <td>45.66</td>\n",
       "    </tr>\n",
       "    <tr>\n",
       "      <th>9816</th>\n",
       "      <td>2016</td>\n",
       "      <td>350000</td>\n",
       "      <td>New Brunswick</td>\n",
       "      <td>45.37</td>\n",
       "    </tr>\n",
       "    <tr>\n",
       "      <th>12793</th>\n",
       "      <td>20162</td>\n",
       "      <td>350000</td>\n",
       "      <td>New Brunswick</td>\n",
       "      <td>47.13</td>\n",
       "    </tr>\n",
       "  </tbody>\n",
       "</table>\n",
       "</div>"
      ],
      "text/plain": [
       "        Year  Income       Province  Average Income Tax\n",
       "885     2005  350000  New Brunswick               43.28\n",
       "3862    2014  350000  New Brunswick               42.56\n",
       "6839    2015  350000  New Brunswick               45.66\n",
       "9816    2016  350000  New Brunswick               45.37\n",
       "12793  20162  350000  New Brunswick               47.13"
      ]
     },
     "execution_count": 17,
     "metadata": {},
     "output_type": "execute_result"
    }
   ],
   "source": [
    "years = [\"2005\", \"2014\", \"2015\", \"2016\", \"20162\"]\n",
    "array_of_dfs = []\n",
    "for year in years:\n",
    "    avg_rates_combined = createYearDfCombined(year)\n",
    "    df = pd.melt(avg_rates_combined, id_vars=[\"Year\", \"Income\"], var_name=\"Province\", value_name=\"Average Income Tax\")\n",
    "    array_of_dfs.append(df)\n",
    "merged_data = pd.concat(array_of_dfs, ignore_index=True, axis=0)\n",
    "merged_data.to_csv(path_or_buf=\"./MiscData/AvgRatesCombined.csv\", index=False)\n",
    "merged_data[(merged_data[\"Province\"] == \"New Brunswick\") & (merged_data[\"Income\"] == 350000)]"
   ]
  },
  {
   "cell_type": "markdown",
   "metadata": {},
   "source": [
    "### Adjust incomes based on inflation\n",
    "\n",
    "Tax parameters are indexed using the Consumer Price Index (CPI), as reported by Statistics Canada. An indexed parameter for a new taxation year is equal to **A divided by B**, where:\n",
    "\n",
    "**A** is the average monthly value of the CPI for the 12 months ending in September of the preceding year (e.g. October 2004 to September 2005 is used to calculate the indexed parameters for 2006); and\n",
    "**B** is the average CPI calculated for the preceding 12-month period (e.g. October 2003 to September 2004).\n",
    "\n",
    "_Source: http://www.fin.gc.ca/n05/05-087-eng.asp (modified slightly)_"
   ]
  },
  {
   "cell_type": "code",
   "execution_count": 18,
   "metadata": {
    "collapsed": false,
    "scrolled": true
   },
   "outputs": [],
   "source": [
    "# Load the file that contains the CPI indexes as calculated above\n",
    "tax_index = pd.read_csv(filepath_or_buffer=\"./MiscData/TaxCPIIndex.csv\")\n",
    "def incAdjust(row):\n",
    "    year = int(row[\"Year\"])\n",
    "    # Get the index values between the year and 2016\n",
    "    index_values = tax_index.loc[tax_index[\"Year\"] > year,\"CPI Change\"].values / 100.0 + 1 \n",
    "    multiplier = np.prod(index_values) # Combine them\n",
    "    return np.round(row[\"Income\"] * multiplier)"
   ]
  },
  {
   "cell_type": "code",
   "execution_count": 19,
   "metadata": {
    "collapsed": false,
    "scrolled": true
   },
   "outputs": [],
   "source": [
    "# This is just for one-off conversions\n",
    "tax_index = pd.read_csv(filepath_or_buffer=\"./MiscData/TaxCPIIndex.csv\")\n",
    "def incAdjustSingle(year, income):\n",
    "    # Get the index values between the year and 2016\n",
    "    index_values = tax_index.loc[tax_index[\"Year\"] > year,\"CPI Change\"].values / 100.0 + 1 \n",
    "    multiplier = np.prod(index_values) # Combine them\n",
    "    return np.round(income * multiplier)"
   ]
  },
  {
   "cell_type": "code",
   "execution_count": 20,
   "metadata": {
    "collapsed": false
   },
   "outputs": [
    {
     "data": {
      "text/plain": [
       "17616.0"
      ]
     },
     "execution_count": 20,
     "metadata": {},
     "output_type": "execute_result"
    }
   ],
   "source": [
    "incAdjustSingle(2005, 14523)"
   ]
  },
  {
   "cell_type": "code",
   "execution_count": 21,
   "metadata": {
    "collapsed": false,
    "scrolled": true
   },
   "outputs": [
    {
     "data": {
      "text/html": [
       "<div>\n",
       "<table border=\"1\" class=\"dataframe\">\n",
       "  <thead>\n",
       "    <tr style=\"text-align: right;\">\n",
       "      <th></th>\n",
       "      <th>Year</th>\n",
       "      <th>Income</th>\n",
       "      <th>Province</th>\n",
       "      <th>Average Income Tax</th>\n",
       "      <th>Income Adjusted</th>\n",
       "    </tr>\n",
       "  </thead>\n",
       "  <tbody>\n",
       "    <tr>\n",
       "      <th>885</th>\n",
       "      <td>2005</td>\n",
       "      <td>350000</td>\n",
       "      <td>New Brunswick</td>\n",
       "      <td>43.28</td>\n",
       "      <td>424540.0</td>\n",
       "    </tr>\n",
       "    <tr>\n",
       "      <th>3862</th>\n",
       "      <td>2014</td>\n",
       "      <td>350000</td>\n",
       "      <td>New Brunswick</td>\n",
       "      <td>42.56</td>\n",
       "      <td>360577.0</td>\n",
       "    </tr>\n",
       "    <tr>\n",
       "      <th>6839</th>\n",
       "      <td>2015</td>\n",
       "      <td>350000</td>\n",
       "      <td>New Brunswick</td>\n",
       "      <td>45.66</td>\n",
       "      <td>354550.0</td>\n",
       "    </tr>\n",
       "    <tr>\n",
       "      <th>9816</th>\n",
       "      <td>2016</td>\n",
       "      <td>350000</td>\n",
       "      <td>New Brunswick</td>\n",
       "      <td>45.37</td>\n",
       "      <td>350000.0</td>\n",
       "    </tr>\n",
       "    <tr>\n",
       "      <th>12793</th>\n",
       "      <td>20162</td>\n",
       "      <td>350000</td>\n",
       "      <td>New Brunswick</td>\n",
       "      <td>47.13</td>\n",
       "      <td>350000.0</td>\n",
       "    </tr>\n",
       "  </tbody>\n",
       "</table>\n",
       "</div>"
      ],
      "text/plain": [
       "        Year  Income       Province  Average Income Tax  Income Adjusted\n",
       "885     2005  350000  New Brunswick               43.28         424540.0\n",
       "3862    2014  350000  New Brunswick               42.56         360577.0\n",
       "6839    2015  350000  New Brunswick               45.66         354550.0\n",
       "9816    2016  350000  New Brunswick               45.37         350000.0\n",
       "12793  20162  350000  New Brunswick               47.13         350000.0"
      ]
     },
     "execution_count": 21,
     "metadata": {},
     "output_type": "execute_result"
    }
   ],
   "source": [
    "merged_data_adjusted = merged_data.copy()\n",
    "merged_data_adjusted[\"Income Adjusted\"] = 0\n",
    "merged_data_adjusted[\"Income Adjusted\"] = merged_data_adjusted.apply(incAdjust, axis=1)\n",
    "merged_data_adjusted.to_csv(path_or_buf=\"./MiscData/AvgRatesAdjusted.csv\", index=False)\n",
    "merged_data_adjusted[(merged_data_adjusted[\"Province\"] == \"New Brunswick\") & (merged_data_adjusted[\"Income\"] == 350000)]"
   ]
  },
  {
   "cell_type": "markdown",
   "metadata": {},
   "source": [
    "### Generate a list of provinces ordered by average tax rate for each income"
   ]
  },
  {
   "cell_type": "code",
   "execution_count": 22,
   "metadata": {
    "collapsed": false
   },
   "outputs": [
    {
     "data": {
      "text/html": [
       "<div>\n",
       "<table border=\"1\" class=\"dataframe\">\n",
       "  <thead>\n",
       "    <tr style=\"text-align: right;\">\n",
       "      <th></th>\n",
       "      <th>Year</th>\n",
       "      <th>Income</th>\n",
       "      <th>Province</th>\n",
       "      <th>Average Income Tax</th>\n",
       "      <th>Rank At Income</th>\n",
       "    </tr>\n",
       "  </thead>\n",
       "  <tbody>\n",
       "    <tr>\n",
       "      <th>11369</th>\n",
       "      <td>2016</td>\n",
       "      <td>100000</td>\n",
       "      <td>Quebec</td>\n",
       "      <td>34.71</td>\n",
       "      <td>1</td>\n",
       "    </tr>\n",
       "  </tbody>\n",
       "</table>\n",
       "</div>"
      ],
      "text/plain": [
       "       Year  Income Province  Average Income Tax  Rank At Income\n",
       "11369  2016  100000   Quebec               34.71               1"
      ]
     },
     "execution_count": 22,
     "metadata": {},
     "output_type": "execute_result"
    }
   ],
   "source": [
    "# Get just the 2016 data and incomes at least 10000, since the \n",
    "# rank before that is quite meaningless since they are almost all 0\n",
    "merged_data_2016 = merged_data[(merged_data[\"Year\"] == \"2016\") & (merged_data[\"Income\"] >= 10000)].copy()\n",
    "merged_data_2016[\"Rank At Income\"] = 0\n",
    "# Grab the list of incomes for 2016 so that we can loop over them\n",
    "incomes = merged_data_2016[\"Income\"].unique()\n",
    "# Generate a list of numbers that'll be used to rank each province\n",
    "one_to_13 = Series(range(1,14))\n",
    "\n",
    "for income in incomes:\n",
    "    # Get the rows from the dataframe that equal the income of interest\n",
    "    single_inc_df = merged_data_2016[merged_data_2016[\"Income\"] == income]\n",
    "    # Sort those rows in ascending order\n",
    "    single_inc_df = single_inc_df.sort_values(by=\"Average Income Tax\", ascending=False)\n",
    "    # Give them a new column and assign it the value of their rank\n",
    "    single_inc_df[\"Rank At Income\"] = one_to_13.values\n",
    "    merged_data_2016.loc[merged_data_2016[\"Income\"] == income,:] = single_inc_df\n",
    "\n",
    "# merged_data_2016.to_csv(\"./MiscData/RankedProvinces.csv\", index=False)\n",
    "merged_data_2016[(merged_data_2016[\"Province\"] == \"Quebec\") & (merged_data_2016[\"Income\"] == 100000)]"
   ]
  },
  {
   "cell_type": "markdown",
   "metadata": {},
   "source": [
    "### Provincial Only"
   ]
  },
  {
   "cell_type": "code",
   "execution_count": 23,
   "metadata": {
    "collapsed": false,
    "scrolled": true
   },
   "outputs": [],
   "source": [
    "def createYearDfProvOnly(year):\n",
    "    year_prov_avgs = allData[year]\n",
    "    year_dict = {}\n",
    "    for prov, income_data in year_prov_avgs.iteritems():\n",
    "        prov_dict = {}\n",
    "        for income_record in income_data:\n",
    "            income = income_record.keys()[0]\n",
    "            avg_tax = income_record.values()[0]['avg_prov']\n",
    "            prov_dict[int(income)] = avg_tax\n",
    "        prov_series = Series(prov_dict)\n",
    "        year_dict[prov] = prov_series\n",
    "    # Convert the dictionary to a dataframe\n",
    "    year_df = pd.concat(year_dict, axis=1)\n",
    "    # Drop the Federal column since we're only interested in combined rates\n",
    "    # Assign the year to a column to use in a dimensional model later\n",
    "    year_df[\"Year\"] = year\n",
    "    # Get the income out of the index so that we can use it in a dimensional model later\n",
    "    year_df = year_df.reset_index(level=0)\n",
    "    year_df = year_df.rename(columns={\"index\": \"Income\"})\n",
    "    return year_df\n",
    "prov_only = createYearDfProvOnly(\"2016\")\n",
    "del prov_only[\"Federal\"]"
   ]
  },
  {
   "cell_type": "code",
   "execution_count": 25,
   "metadata": {
    "collapsed": false,
    "scrolled": true
   },
   "outputs": [],
   "source": [
    "years = [\"2005\", \"2014\", \"2015\", \"2016\", \"20162\"]\n",
    "array_of_dfs = []\n",
    "for year in years:\n",
    "    avg_rates = createYearDfProvOnly(year)\n",
    "    df = pd.melt(avg_rates, id_vars=[\"Year\", \"Income\"], var_name=\"Province\", value_name=\"Average Income Tax\")\n",
    "    array_of_dfs.append(df)\n",
    "merged_data = pd.concat(array_of_dfs, ignore_index=True, axis=0)\n",
    "merged_data.to_csv(path_or_buf=\"./MiscData/AvgRatesProvOnly.csv\", index=False)"
   ]
  },
  {
   "cell_type": "code",
   "execution_count": 26,
   "metadata": {
    "collapsed": false,
    "scrolled": true
   },
   "outputs": [],
   "source": [
    "merged_data_adjusted = merged_data.copy()\n",
    "merged_data_adjusted[\"Income Adjusted\"] = 0\n",
    "merged_data_adjusted[\"Income Adjusted\"] = merged_data_adjusted.apply(incAdjust, axis=1)\n",
    "merged_data_adjusted.to_csv(path_or_buf=\"./MiscData/AvgRatesProvOnlyAdjusted.csv\", index=False)"
   ]
  },
  {
   "cell_type": "markdown",
   "metadata": {},
   "source": [
    "## Prepare data for D3"
   ]
  },
  {
   "cell_type": "code",
   "execution_count": 28,
   "metadata": {
    "collapsed": false,
    "scrolled": true
   },
   "outputs": [],
   "source": [
    "# Load the file that contains the CPI indexes as calculated above\n",
    "tax_index = pd.read_csv(filepath_or_buffer=\"./MiscData/TaxCPIIndex.csv\")\n",
    "\n",
    "# Convert the results into an object that can be visualized\n",
    "# with each province representing a line, the income as the x-value\n",
    "# and the avg tax as the y-value\n",
    "def createYearDict(year):\n",
    "    year_prov_avgs = allData[year]\n",
    "    year_dict = {}\n",
    "    for prov, income_data in year_prov_avgs.iteritems():\n",
    "        prov_dict = {}\n",
    "        for income_record in income_data:\n",
    "            income = income_record.keys()[0]\n",
    "            # Adjust for inflation\n",
    "            index_values = tax_index.loc[tax_index[\"Year\"] > int(year),\"CPI Change\"].values / 100.0 + 1\n",
    "            multiplier = np.prod(index_values)\n",
    "            income = np.round(float(income) * multiplier)\n",
    "            \n",
    "            # Store the values in the dict\n",
    "            avg_tax = income_record.values()[0]['avg_total']\n",
    "            # Filter out values above 300000\n",
    "            if (income <= 300000):\n",
    "                prov_dict[int(income)] = avg_tax\n",
    "        prov_series = Series(prov_dict)\n",
    "        year_dict[prov] = prov_series\n",
    "    return year_dict\n",
    "# createYearDict(\"2014\")"
   ]
  },
  {
   "cell_type": "code",
   "execution_count": 29,
   "metadata": {
    "collapsed": false
   },
   "outputs": [],
   "source": [
    "def convertYearD3(year_data):\n",
    "    d3_year_data = []\n",
    "    for province, avgs in year_data.iteritems():\n",
    "        if province != 'Federal':\n",
    "            line_data = {\"values\":[], \"key\": \"\"}\n",
    "            line_data[\"key\"] = province\n",
    "            for income, avg in avgs.iteritems():\n",
    "                line_data[\"values\"].append({\"x\": income, \"y\": round(avg/100.0,3)})\n",
    "            d3_year_data.append(line_data)\n",
    "    return d3_year_data\n",
    "# convertYearD3(createYearDict(\"2014\"))"
   ]
  },
  {
   "cell_type": "code",
   "execution_count": 30,
   "metadata": {
    "collapsed": false,
    "scrolled": true
   },
   "outputs": [],
   "source": [
    "years = [\"2005\", \"2014\", \"2015\", \"2016\"]\n",
    "all_d3_data = {\"tax\":{},\"population\":{}}\n",
    "for year in years:\n",
    "    single_year = createYearDict(year)\n",
    "    single_year_d3 = convertYearD3(single_year)\n",
    "    all_d3_data[\"tax\"][year] = single_year_d3\n",
    "# all_d3_data"
   ]
  },
  {
   "cell_type": "code",
   "execution_count": 31,
   "metadata": {
    "collapsed": true
   },
   "outputs": [],
   "source": [
    "with open('webcustom/avgTaxAllAdjusted.json', 'w') as data_file:    \n",
    "    json.dump(all_d3_data, data_file)"
   ]
  },
  {
   "cell_type": "markdown",
   "metadata": {
    "collapsed": true
   },
   "source": [
    "# Population Distribution"
   ]
  },
  {
   "cell_type": "code",
   "execution_count": 32,
   "metadata": {
    "collapsed": true
   },
   "outputs": [],
   "source": [
    "def commas(number):\n",
    "    return locale.format(\"%d\", number, grouping=True)"
   ]
  },
  {
   "cell_type": "code",
   "execution_count": 33,
   "metadata": {
    "collapsed": false,
    "scrolled": true
   },
   "outputs": [],
   "source": [
    "income_dist = pd.read_csv(filepath_or_buffer=\"./MiscData/IncDistCleaned.csv\")\n",
    "income_dist_dict = {}\n",
    "income_dist[\"ActualTotal\"] = 0\n",
    "income_dist[\"PercentagePop\"] = 0\n",
    "income_dist[\"Label\"] = \"\"\n",
    "for (index, row) in income_dist.iterrows():\n",
    "    \n",
    "    # Get the total population for the percentage calculation\n",
    "    prov = row[\"Province\"]\n",
    "    prov_data = income_dist.loc[income_dist[\"Province\"] == prov,:]\n",
    "    total_pop = prov_data.iloc[0][\"Total\"] + prov_data.iloc[1][\"Total\"]\n",
    "\n",
    "    if row[\"Income\"] == 0:\n",
    "        income_dist.loc[index, \"ActualTotal\"] = row[\"Total\"]\n",
    "        income_dist.loc[index, \"PercentagePop\"] = 100.0 * row[\"Total\"] / total_pop\n",
    "        \n",
    "        next_index = index + 1\n",
    "        next_income = income_dist.loc[next_index, \"Income\"]\n",
    "        income_dist.loc[index, \"Label\"] = \"$\" + str(row[\"Income\"]) + \" - \" + str(commas(next_income - 1))\n",
    "    elif row[\"Income\"] == 250000:\n",
    "        income_dist.loc[index, \"ActualTotal\"] = row[\"Total\"]\n",
    "        income_dist.loc[index, \"PercentagePop\"] = 100.0 * row[\"Total\"] / total_pop\n",
    "        \n",
    "        income_dist.loc[index, \"Label\"] = \"$250,000+\"\n",
    "    else:\n",
    "        next_index = index + 1\n",
    "        \n",
    "        next_total = income_dist.loc[next_index, \"Total\"]\n",
    "        income_dist.loc[index, \"ActualTotal\"] = row[\"Total\"] - next_total\n",
    "        income_dist.loc[index, \"PercentagePop\"] = 100.0 * (row[\"Total\"] - next_total) / total_pop\n",
    "        \n",
    "        next_income = income_dist.loc[next_index, \"Income\"]\n",
    "        income_dist.loc[index, \"Label\"] = \"$\" + str(commas(row[\"Income\"])) + \" - \" + str(commas(next_income - 1))\n",
    "income_dist.to_csv(path_or_buf=\"./MiscData/IncDistProcessed.csv\")"
   ]
  },
  {
   "cell_type": "code",
   "execution_count": 34,
   "metadata": {
    "collapsed": false
   },
   "outputs": [
    {
     "data": {
      "text/plain": [
       "58.35221607903562"
      ]
     },
     "execution_count": 34,
     "metadata": {},
     "output_type": "execute_result"
    }
   ],
   "source": [
    "row = income_dist.iloc[18]\n",
    "prov = row[\"Province\"]\n",
    "prov_data = income_dist.loc[income_dist[\"Province\"] == prov,:]\n",
    "total_pop = prov_data.iloc[0][\"Total\"] + prov_data.iloc[1][\"Total\"]\n",
    "100.0 * row[\"Total\"] / total_pop"
   ]
  },
  {
   "cell_type": "code",
   "execution_count": null,
   "metadata": {
    "collapsed": true
   },
   "outputs": [],
   "source": []
  }
 ],
 "metadata": {
  "kernelspec": {
   "display_name": "Python [default]",
   "language": "python",
   "name": "python2"
  },
  "language_info": {
   "codemirror_mode": {
    "name": "ipython",
    "version": 2
   },
   "file_extension": ".py",
   "mimetype": "text/x-python",
   "name": "python",
   "nbconvert_exporter": "python",
   "pygments_lexer": "ipython2",
   "version": "2.7.12"
  }
 },
 "nbformat": 4,
 "nbformat_minor": 0
}
