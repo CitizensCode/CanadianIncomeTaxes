{
 "cells": [
  {
   "cell_type": "code",
   "execution_count": 2,
   "metadata": {
    "collapsed": false
   },
   "outputs": [],
   "source": [
    "import urllib2\n",
    "from scrapy.selector import Selector\n",
    "from scrapy.http import HtmlResponse\n",
    "from urlparse import urlsplit, urljoin"
   ]
  },
  {
   "cell_type": "code",
   "execution_count": 3,
   "metadata": {
    "collapsed": false
   },
   "outputs": [],
   "source": [
    "base_url = 'http://www.cra-arc.gc.ca/formspubs/t1gnrl/llyrs-eng.html'\n",
    "base_page = urllib2.urlopen(base_url).read()\n",
    "selection = Selector(text=base_page)"
   ]
  },
  {
   "cell_type": "markdown",
   "metadata": {},
   "source": [
    "### Get a url for each year"
   ]
  },
  {
   "cell_type": "code",
   "execution_count": 19,
   "metadata": {
    "collapsed": false
   },
   "outputs": [],
   "source": [
    "year_pages = selection.xpath(\"//main[@property='mainContentOfPage']/ul/li/a/@href\").extract()\n",
    "year_pages\n",
    "year_pages_dict = {}\n",
    "year = 2014\n",
    "for year_page in year_pages:\n",
    "    year_pages_dict[str(year)] = year_page\n",
    "    year = year - 1"
   ]
  },
  {
   "cell_type": "code",
   "execution_count": 24,
   "metadata": {
    "collapsed": false
   },
   "outputs": [
    {
     "data": {
      "text/plain": [
       "{'1985': u'http://www.cra-arc.gc.ca/formspubs/prioryear/t1/1985/menu-e.html',\n",
       " '1986': u'http://www.cra-arc.gc.ca/formspubs/prioryear/t1/1986/menu-e.html',\n",
       " '1987': u'http://www.cra-arc.gc.ca/formspubs/prioryear/t1/1987/menu-e.html',\n",
       " '1988': u'http://www.cra-arc.gc.ca/formspubs/prioryear/t1/1988/menu-e.html',\n",
       " '1989': u'http://www.cra-arc.gc.ca/formspubs/prioryear/t1/1989/menu-e.html',\n",
       " '1990': u'http://www.cra-arc.gc.ca/formspubs/prioryear/t1/1990/menu-e.html',\n",
       " '1991': u'http://www.cra-arc.gc.ca/formspubs/prioryear/t1/1991/menu-e.html',\n",
       " '1992': u'http://www.cra-arc.gc.ca/formspubs/prioryear/t1/1992/menu-e.html',\n",
       " '1993': u'http://www.cra-arc.gc.ca/formspubs/prioryear/t1/1993/menu-e.html',\n",
       " '1994': u'http://www.cra-arc.gc.ca/formspubs/prioryear/t1/1994/menu-e.html',\n",
       " '1995': u'http://www.cra-arc.gc.ca/formspubs/prioryear/t1/1995/menu-e.html',\n",
       " '1996': u'http://www.cra-arc.gc.ca/formspubs/prioryear/t1/1996/menu-e.html',\n",
       " '1997': u'http://www.cra-arc.gc.ca/formspubs/prioryear/t1/1997/menu-e.html',\n",
       " '1998': u'http://www.cra-arc.gc.ca/formspubs/prioryear/t1/1998/menu-e.html',\n",
       " '1999': u'http://www.cra-arc.gc.ca/formspubs/prioryear/t1/1999/menu-e.html',\n",
       " '2000': u'http://www.cra-arc.gc.ca/formspubs/prioryear/t1/2000/menu-e.html',\n",
       " '2001': u'http://www.cra-arc.gc.ca/formspubs/prioryear/t1/2001/menu-e.html',\n",
       " '2002': u'http://www.cra-arc.gc.ca/formspubs/prioryear/t1/2002/menu-e.html',\n",
       " '2003': u'http://www.cra-arc.gc.ca/formspubs/prioryear/t1/2003/menu-e.html',\n",
       " '2004': u'http://www.cra-arc.gc.ca/formspubs/prioryear/t1/2004/menu-e.html',\n",
       " '2005': u'http://www.cra-arc.gc.ca/formspubs/prioryear/t1/2005/menu-e.html',\n",
       " '2006': u'http://www.cra-arc.gc.ca/formspubs/prioryear/t1/2006/menu-e.html',\n",
       " '2007': u'http://www.cra-arc.gc.ca/formspubs/prioryear/t1/2007/menu-eng.html',\n",
       " '2008': u'http://www.cra-arc.gc.ca/formspubs/prioryear/t1/2008/menu-eng.html',\n",
       " '2009': u'http://www.cra-arc.gc.ca/formspubs/prioryear/t1/2009/menu-eng.html',\n",
       " '2010': u'http://www.cra-arc.gc.ca/formspubs/prioryear/t1/2010/menu-eng.html',\n",
       " '2011': u'http://www.cra-arc.gc.ca/formspubs/prioryear/t1/2011/menu-eng.html',\n",
       " '2012': u'http://www.cra-arc.gc.ca/formspubs/prioryear/t1/2012/menu-eng.html',\n",
       " '2013': u'http://www.cra-arc.gc.ca/formspubs/prioryear/t1/2013/menu-eng.html',\n",
       " '2014': u'http://www.cra-arc.gc.ca/formspubs/t1gnrl/menu-eng.html'}"
      ]
     },
     "execution_count": 24,
     "metadata": {},
     "output_type": "execute_result"
    }
   ],
   "source": [
    "url_split = urlsplit(base_url)\n",
    "for year, url in year_pages_dict.iteritems():\n",
    "    # Create the url and then append it into the empty array\n",
    "    url_joined = 'http://' + url_split.netloc + url\n",
    "    year_pages_dict[year] = url_joined\n",
    "\n",
    "# Debugging\n",
    "year_pages_dict"
   ]
  },
  {
   "cell_type": "code",
   "execution_count": null,
   "metadata": {
    "collapsed": false
   },
   "outputs": [],
   "source": [
    "provincial_links = []\n",
    "\n",
    "def provinceUrlListAppend(url_list, flag, year_url):\n",
    "    if flag == \"normal\" or flag == \"older\":\n",
    "        for url in url_list:\n",
    "            provincial_links.append('http://' + url_split.netloc + url)\n",
    "    elif flag == \"reallyOld\":\n",
    "        for url in url_list:\n",
    "            link = 'http://' + url_split.netloc\n",
    "            link += urlsplit(year_url).path.rsplit('/', 1)[0]\n",
    "            link += \"/\" + url\n",
    "            print year\n",
    "            provincial_links.append(link)\n",
    "\n",
    "def provinceUrlListProcess(url_list, year_url):\n",
    "    # If it's 'normal' and Alberta is detected, go ahead\n",
    "    if url_list[0] == 'Alberta' or url_list[0] == ' ':\n",
    "        url_list = selection.xpath(\"//main[@property='mainContentOfPage']/ul[1]/li/a/@href\").extract()\n",
    "        provinceUrlListAppend(url_list, \"normal\", year_url)\n",
    "    else:\n",
    "        # In some older links, they stuck another unordered list above\n",
    "        url_list = selection.xpath(\"//main[@property='mainContentOfPage']/ul[2]/li/a/@href\").extract()\n",
    "        # Another edge case check where they started using relative urls around 1998\n",
    "        if url_list[0][0] == \"/\":\n",
    "            provinceUrlListAppend(url_list, \"older\", year_url)\n",
    "        else:\n",
    "            provinceUrlListAppend(url_list, \"reallyOld\", year_url)\n",
    "\n",
    "for year_url in joined_urls:\n",
    "    year_page = urllib2.urlopen(year_url).read()\n",
    "    selection = Selector(text=year_page)\n",
    "    # This checks for an edge case where some pages have the province urls placed in a differnt location\n",
    "    provt_pages = selection.xpath(\"//main[@property='mainContentOfPage']/ul/li/a/text()\").extract()\n",
    "    provinceUrlListProcess(provt_pages, year_url)"
   ]
  },
  {
   "cell_type": "code",
   "execution_count": null,
   "metadata": {
    "collapsed": false
   },
   "outputs": [],
   "source": [
    "# Debugging  \n",
    "provincial_links"
   ]
  },
  {
   "cell_type": "code",
   "execution_count": null,
   "metadata": {
    "collapsed": false
   },
   "outputs": [],
   "source": [
    "print joined_urls[20]\n",
    "joined_urls[20].rsplit('/', 1)[0]"
   ]
  },
  {
   "cell_type": "code",
   "execution_count": null,
   "metadata": {
    "collapsed": false
   },
   "outputs": [],
   "source": [
    "urlsplit(joined_urls[20]).path.rsplit('/', 1)[0]"
   ]
  },
  {
   "cell_type": "code",
   "execution_count": null,
   "metadata": {
    "collapsed": false
   },
   "outputs": [],
   "source": [
    "provt_pages[0][0]"
   ]
  },
  {
   "cell_type": "code",
   "execution_count": null,
   "metadata": {
    "collapsed": true
   },
   "outputs": [],
   "source": []
  }
 ],
 "metadata": {
  "kernelspec": {
   "display_name": "Python 2",
   "language": "python",
   "name": "python2"
  },
  "language_info": {
   "codemirror_mode": {
    "name": "ipython",
    "version": 2
   },
   "file_extension": ".py",
   "mimetype": "text/x-python",
   "name": "python",
   "nbconvert_exporter": "python",
   "pygments_lexer": "ipython2",
   "version": "2.7.10"
  }
 },
 "nbformat": 4,
 "nbformat_minor": 0
}
