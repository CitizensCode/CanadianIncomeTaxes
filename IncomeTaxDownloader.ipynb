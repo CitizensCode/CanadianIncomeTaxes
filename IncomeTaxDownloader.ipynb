{
 "cells": [
  {
   "cell_type": "code",
   "execution_count": 2,
   "metadata": {
    "collapsed": false
   },
   "outputs": [],
   "source": [
    "import urllib2\n",
    "from scrapy.selector import Selector\n",
    "from scrapy.http import HtmlResponse\n",
    "from urlparse import urlsplit, urljoin"
   ]
  },
  {
   "cell_type": "code",
   "execution_count": 3,
   "metadata": {
    "collapsed": false
   },
   "outputs": [],
   "source": [
    "base_url = 'http://www.cra-arc.gc.ca/formspubs/t1gnrl/llyrs-eng.html'\n",
    "base_page = urllib2.urlopen(base_url).read()\n",
    "selection = Selector(text=base_page)"
   ]
  },
  {
   "cell_type": "markdown",
   "metadata": {},
   "source": [
    "### Get a url for each year"
   ]
  },
  {
   "cell_type": "code",
   "execution_count": 4,
   "metadata": {
    "collapsed": false
   },
   "outputs": [],
   "source": [
    "year_pages = selection.xpath(\"//main[@property='mainContentOfPage']/ul/li/a/@href\").extract()\n",
    "year_pages\n",
    "year_pages_dict = {}\n",
    "year = 2014\n",
    "for year_page in year_pages:\n",
    "    year_pages_dict[str(year)] = year_page\n",
    "    year = year - 1"
   ]
  },
  {
   "cell_type": "code",
   "execution_count": 6,
   "metadata": {
    "collapsed": false
   },
   "outputs": [
    {
     "data": {
      "text/plain": [
       "{'1985': u'http://www.cra-arc.gc.ca/formspubs/prioryear/t1/1985/menu-e.html',\n",
       " '1986': u'http://www.cra-arc.gc.ca/formspubs/prioryear/t1/1986/menu-e.html',\n",
       " '1987': u'http://www.cra-arc.gc.ca/formspubs/prioryear/t1/1987/menu-e.html',\n",
       " '1988': u'http://www.cra-arc.gc.ca/formspubs/prioryear/t1/1988/menu-e.html',\n",
       " '1989': u'http://www.cra-arc.gc.ca/formspubs/prioryear/t1/1989/menu-e.html',\n",
       " '1990': u'http://www.cra-arc.gc.ca/formspubs/prioryear/t1/1990/menu-e.html',\n",
       " '1991': u'http://www.cra-arc.gc.ca/formspubs/prioryear/t1/1991/menu-e.html',\n",
       " '1992': u'http://www.cra-arc.gc.ca/formspubs/prioryear/t1/1992/menu-e.html',\n",
       " '1993': u'http://www.cra-arc.gc.ca/formspubs/prioryear/t1/1993/menu-e.html',\n",
       " '1994': u'http://www.cra-arc.gc.ca/formspubs/prioryear/t1/1994/menu-e.html',\n",
       " '1995': u'http://www.cra-arc.gc.ca/formspubs/prioryear/t1/1995/menu-e.html',\n",
       " '1996': u'http://www.cra-arc.gc.ca/formspubs/prioryear/t1/1996/menu-e.html',\n",
       " '1997': u'http://www.cra-arc.gc.ca/formspubs/prioryear/t1/1997/menu-e.html',\n",
       " '1998': u'http://www.cra-arc.gc.ca/formspubs/prioryear/t1/1998/menu-e.html',\n",
       " '1999': u'http://www.cra-arc.gc.ca/formspubs/prioryear/t1/1999/menu-e.html',\n",
       " '2000': u'http://www.cra-arc.gc.ca/formspubs/prioryear/t1/2000/menu-e.html',\n",
       " '2001': u'http://www.cra-arc.gc.ca/formspubs/prioryear/t1/2001/menu-e.html',\n",
       " '2002': u'http://www.cra-arc.gc.ca/formspubs/prioryear/t1/2002/menu-e.html',\n",
       " '2003': u'http://www.cra-arc.gc.ca/formspubs/prioryear/t1/2003/menu-e.html',\n",
       " '2004': u'http://www.cra-arc.gc.ca/formspubs/prioryear/t1/2004/menu-e.html',\n",
       " '2005': u'http://www.cra-arc.gc.ca/formspubs/prioryear/t1/2005/menu-e.html',\n",
       " '2006': u'http://www.cra-arc.gc.ca/formspubs/prioryear/t1/2006/menu-e.html',\n",
       " '2007': u'http://www.cra-arc.gc.ca/formspubs/prioryear/t1/2007/menu-eng.html',\n",
       " '2008': u'http://www.cra-arc.gc.ca/formspubs/prioryear/t1/2008/menu-eng.html',\n",
       " '2009': u'http://www.cra-arc.gc.ca/formspubs/prioryear/t1/2009/menu-eng.html',\n",
       " '2010': u'http://www.cra-arc.gc.ca/formspubs/prioryear/t1/2010/menu-eng.html',\n",
       " '2011': u'http://www.cra-arc.gc.ca/formspubs/prioryear/t1/2011/menu-eng.html',\n",
       " '2012': u'http://www.cra-arc.gc.ca/formspubs/prioryear/t1/2012/menu-eng.html',\n",
       " '2013': u'http://www.cra-arc.gc.ca/formspubs/prioryear/t1/2013/menu-eng.html',\n",
       " '2014': u'http://www.cra-arc.gc.ca/formspubs/t1gnrl/menu-eng.html'}"
      ]
     },
     "execution_count": 6,
     "metadata": {},
     "output_type": "execute_result"
    }
   ],
   "source": [
    "url_split = urlsplit(base_url)\n",
    "year_pages_dict_full = {}\n",
    "for year, url in year_pages_dict.iteritems():\n",
    "    # Create the url and then append it into the empty array\n",
    "    url_joined = 'http://' + url_split.netloc + url\n",
    "    year_pages_dict_full[year] = url_joined\n",
    "\n",
    "# Debugging\n",
    "year_pages_dict_full"
   ]
  },
  {
   "cell_type": "code",
   "execution_count": 8,
   "metadata": {
    "collapsed": false,
    "scrolled": true
   },
   "outputs": [
    {
     "name": "stdout",
     "output_type": "stream",
     "text": [
      "1986\n",
      "1987\n",
      "1985\n",
      "1988\n",
      "1989\n",
      "2014\n",
      "2011\n",
      "2010\n",
      "2013\n",
      "2012\n",
      "1991\n",
      "1990\n",
      "1993\n",
      "1992\n",
      "1995\n",
      "1994\n",
      "1997\n",
      "1996\n",
      "1999\n",
      "1998\n",
      "2002\n",
      "2003\n",
      "2000\n",
      "2001\n",
      "2006\n",
      "2007\n",
      "2004\n",
      "2005\n",
      "2008\n",
      "2009\n",
      "{'1986': [u'http://www.cra-arc.gc.ca/formspubs/prioryear/t1/1986/alberta-e.html', u'http://www.cra-arc.gc.ca/formspubs/prioryear/t1/1986/british-columbia-e.html', u'http://www.cra-arc.gc.ca/formspubs/prioryear/t1/1986/manitoba-e.html', u'http://www.cra-arc.gc.ca/formspubs/prioryear/t1/1986/new-brunswick-e.html', u'http://www.cra-arc.gc.ca/formspubs/prioryear/t1/1986/newfoundland-e.html', u'http://www.cra-arc.gc.ca/formspubs/prioryear/t1/1986/northwest-territories-e.html', u'http://www.cra-arc.gc.ca/formspubs/prioryear/t1/1986/nova-scotia-e.html', u'http://www.cra-arc.gc.ca/formspubs/prioryear/t1/1986/ontario-e.html', u'http://www.cra-arc.gc.ca/formspubs/prioryear/t1/1986/prince-edward-island-e.html', u'http://www.cra-arc.gc.ca/formspubs/prioryear/t1/1986/quebec-e.html', u'http://www.cra-arc.gc.ca/formspubs/prioryear/t1/1986/saskatchewan-e.html', u'http://www.cra-arc.gc.ca/formspubs/prioryear/t1/1986/yukon-e.html'], '1987': [u'http://www.cra-arc.gc.ca/formspubs/prioryear/t1/1987/alberta-e.html', u'http://www.cra-arc.gc.ca/formspubs/prioryear/t1/1987/british-columbia-e.html', u'http://www.cra-arc.gc.ca/formspubs/prioryear/t1/1987/manitoba-e.html', u'http://www.cra-arc.gc.ca/formspubs/prioryear/t1/1987/new-brunswick-e.html', u'http://www.cra-arc.gc.ca/formspubs/prioryear/t1/1987/newfoundland-e.html', u'http://www.cra-arc.gc.ca/formspubs/prioryear/t1/1987/northwest-territories-e.html', u'http://www.cra-arc.gc.ca/formspubs/prioryear/t1/1987/nova-scotia-e.html', u'http://www.cra-arc.gc.ca/formspubs/prioryear/t1/1987/ontario-e.html', u'http://www.cra-arc.gc.ca/formspubs/prioryear/t1/1987/prince-edward-island-e.html', u'http://www.cra-arc.gc.ca/formspubs/prioryear/t1/1987/quebec-e.html', u'http://www.cra-arc.gc.ca/formspubs/prioryear/t1/1987/saskatchewan-e.html', u'http://www.cra-arc.gc.ca/formspubs/prioryear/t1/1987/yukon-e.html'], '1985': [u'http://www.cra-arc.gc.ca/formspubs/prioryear/t1/1985/alberta-e.html', u'http://www.cra-arc.gc.ca/formspubs/prioryear/t1/1985/british-columbia-e.html', u'http://www.cra-arc.gc.ca/formspubs/prioryear/t1/1985/manitoba-e.html', u'http://www.cra-arc.gc.ca/formspubs/prioryear/t1/1985/new-brunswick-e.html', u'http://www.cra-arc.gc.ca/formspubs/prioryear/t1/1985//formspubs/prioryear/t1/missing-e.html', u'http://www.cra-arc.gc.ca/formspubs/prioryear/t1/1985/northwest-territories-e.html', u'http://www.cra-arc.gc.ca/formspubs/prioryear/t1/1985/nova-scotia-e.html', u'http://www.cra-arc.gc.ca/formspubs/prioryear/t1/1985/ontario-e.html', u'http://www.cra-arc.gc.ca/formspubs/prioryear/t1/1985/prince-edward-island-e.html', u'http://www.cra-arc.gc.ca/formspubs/prioryear/t1/1985/quebec-e.html', u'http://www.cra-arc.gc.ca/formspubs/prioryear/t1/1985/saskatchewan-e.html', u'http://www.cra-arc.gc.ca/formspubs/prioryear/t1/1985/yukon-e.html'], '1988': [u'http://www.cra-arc.gc.ca/formspubs/prioryear/t1/1988/alberta-e.html', u'http://www.cra-arc.gc.ca/formspubs/prioryear/t1/1988/british-columbia-e.html', u'http://www.cra-arc.gc.ca/formspubs/prioryear/t1/1988/manitoba-e.html', u'http://www.cra-arc.gc.ca/formspubs/prioryear/t1/1988/new-brunswick-e.html', u'http://www.cra-arc.gc.ca/formspubs/prioryear/t1/1988/newfoundland-e.html', u'http://www.cra-arc.gc.ca/formspubs/prioryear/t1/1988/northwest-territories-e.html', u'http://www.cra-arc.gc.ca/formspubs/prioryear/t1/1988/nova-scotia-e.html', u'http://www.cra-arc.gc.ca/formspubs/prioryear/t1/1988/ontario-e.html', u'http://www.cra-arc.gc.ca/formspubs/prioryear/t1/1988/prince-edward-island-e.html', u'http://www.cra-arc.gc.ca/formspubs/prioryear/t1/1988/quebec-e.html', u'http://www.cra-arc.gc.ca/formspubs/prioryear/t1/1988/saskatchewan-e.html', u'http://www.cra-arc.gc.ca/formspubs/prioryear/t1/1988/yukon-e.html'], '1989': [u'http://www.cra-arc.gc.ca/formspubs/prioryear/t1/1989/alberta-e.html', u'http://www.cra-arc.gc.ca/formspubs/prioryear/t1/1989/british-columbia-e.html', u'http://www.cra-arc.gc.ca/formspubs/prioryear/t1/1989/manitoba-e.html', u'http://www.cra-arc.gc.ca/formspubs/prioryear/t1/1989/new-brunswick-e.html', u'http://www.cra-arc.gc.ca/formspubs/prioryear/t1/1989/newfoundland-e.html', u'http://www.cra-arc.gc.ca/formspubs/prioryear/t1/1989/northwest-territories-e.html', u'http://www.cra-arc.gc.ca/formspubs/prioryear/t1/1989/nova-scotia-e.html', u'http://www.cra-arc.gc.ca/formspubs/prioryear/t1/1989/ontario-e.html', u'http://www.cra-arc.gc.ca/formspubs/prioryear/t1/1989/prince-edward-island-e.html', u'http://www.cra-arc.gc.ca/formspubs/prioryear/t1/1989/quebec-e.html', u'http://www.cra-arc.gc.ca/formspubs/prioryear/t1/1989/saskatchewan-e.html', u'http://www.cra-arc.gc.ca/formspubs/prioryear/t1/1989/yukon-e.html'], '2014': [u'http://www.cra-arc.gc.ca/formspubs/t1gnrl/ab-eng.html', u'http://www.cra-arc.gc.ca/formspubs/t1gnrl/bc-eng.html', u'http://www.cra-arc.gc.ca/formspubs/t1gnrl/mb-eng.html', u'http://www.cra-arc.gc.ca/formspubs/t1gnrl/nb-eng.html', u'http://www.cra-arc.gc.ca/formspubs/t1gnrl/nl-eng.html', u'http://www.cra-arc.gc.ca/formspubs/t1gnrl/nt-eng.html', u'http://www.cra-arc.gc.ca/formspubs/t1gnrl/ns-eng.html', u'http://www.cra-arc.gc.ca/formspubs/t1gnrl/nu-eng.html', u'http://www.cra-arc.gc.ca/formspubs/t1gnrl/on-eng.html', u'http://www.cra-arc.gc.ca/formspubs/t1gnrl/pe-eng.html', u'http://www.cra-arc.gc.ca/formspubs/t1gnrl/qc-eng.html', u'http://www.cra-arc.gc.ca/formspubs/t1gnrl/sk-eng.html', u'http://www.cra-arc.gc.ca/formspubs/t1gnrl/yk-eng.html', u'http://www.cra-arc.gc.ca/formspubs/t1gnrl/nnrsdnts-eng.html'], '2011': [u'http://www.cra-arc.gc.ca/formspubs/prioryear/t1/2011/ab-eng.html', u'http://www.cra-arc.gc.ca/formspubs/prioryear/t1/2011/bc-eng.html', u'http://www.cra-arc.gc.ca/formspubs/prioryear/t1/2011/mb-eng.html', u'http://www.cra-arc.gc.ca/formspubs/prioryear/t1/2011/nb-eng.html', u'http://www.cra-arc.gc.ca/formspubs/prioryear/t1/2011/nl-eng.html', u'http://www.cra-arc.gc.ca/formspubs/prioryear/t1/2011/nt-eng.html', u'http://www.cra-arc.gc.ca/formspubs/prioryear/t1/2011/ns-eng.html', u'http://www.cra-arc.gc.ca/formspubs/prioryear/t1/2011/nu-eng.html', u'http://www.cra-arc.gc.ca/formspubs/prioryear/t1/2011/on-eng.html', u'http://www.cra-arc.gc.ca/formspubs/prioryear/t1/2011/pe-eng.html', u'http://www.cra-arc.gc.ca/formspubs/prioryear/t1/2011/qc-eng.html', u'http://www.cra-arc.gc.ca/formspubs/prioryear/t1/2011/sk-eng.html', u'http://www.cra-arc.gc.ca/formspubs/prioryear/t1/2011/yk-eng.html', u'http://www.cra-arc.gc.ca/formspubs/prioryear/t1/2011/nnrsdnts-eng.html'], '2010': [u'http://www.cra-arc.gc.ca/formspubs/prioryear/t1/2010/ab-eng.html', u'http://www.cra-arc.gc.ca/formspubs/prioryear/t1/2010/bc-eng.html', u'http://www.cra-arc.gc.ca/formspubs/prioryear/t1/2010/mb-eng.html', u'http://www.cra-arc.gc.ca/formspubs/prioryear/t1/2010/nb-eng.html', u'http://www.cra-arc.gc.ca/formspubs/prioryear/t1/2010/nl-eng.html', u'http://www.cra-arc.gc.ca/formspubs/prioryear/t1/2010/nt-eng.html', u'http://www.cra-arc.gc.ca/formspubs/prioryear/t1/2010/ns-eng.html', u'http://www.cra-arc.gc.ca/formspubs/prioryear/t1/2010/nu-eng.html', u'http://www.cra-arc.gc.ca/formspubs/prioryear/t1/2010/on-eng.html', u'http://www.cra-arc.gc.ca/formspubs/prioryear/t1/2010/pe-eng.html', u'http://www.cra-arc.gc.ca/formspubs/prioryear/t1/2010/qc-eng.html', u'http://www.cra-arc.gc.ca/formspubs/prioryear/t1/2010/sk-eng.html', u'http://www.cra-arc.gc.ca/formspubs/prioryear/t1/2010/yk-eng.html', u'http://www.cra-arc.gc.ca/formspubs/prioryear/t1/2010/nnrsdnts-eng.html'], '2013': [u'http://www.cra-arc.gc.ca/formspubs/prioryear/t1/2013/ab-eng.html', u'http://www.cra-arc.gc.ca/formspubs/prioryear/t1/2013/bc-eng.html', u'http://www.cra-arc.gc.ca/formspubs/prioryear/t1/2013/mb-eng.html', u'http://www.cra-arc.gc.ca/formspubs/prioryear/t1/2013/nb-eng.html', u'http://www.cra-arc.gc.ca/formspubs/prioryear/t1/2013/nl-eng.html', u'http://www.cra-arc.gc.ca/formspubs/prioryear/t1/2013/nt-eng.html', u'http://www.cra-arc.gc.ca/formspubs/prioryear/t1/2013/ns-eng.html', u'http://www.cra-arc.gc.ca/formspubs/prioryear/t1/2013/nu-eng.html', u'http://www.cra-arc.gc.ca/formspubs/prioryear/t1/2013/on-eng.html', u'http://www.cra-arc.gc.ca/formspubs/prioryear/t1/2013/pe-eng.html', u'http://www.cra-arc.gc.ca/formspubs/prioryear/t1/2013/qc-eng.html', u'http://www.cra-arc.gc.ca/formspubs/prioryear/t1/2013/sk-eng.html', u'http://www.cra-arc.gc.ca/formspubs/prioryear/t1/2013/yk-eng.html', u'http://www.cra-arc.gc.ca/formspubs/prioryear/t1/2013/nnrsdnts-eng.html'], '2012': [u'http://www.cra-arc.gc.ca/formspubs/prioryear/t1/2012/ab-eng.html', u'http://www.cra-arc.gc.ca/formspubs/prioryear/t1/2012/bc-eng.html', u'http://www.cra-arc.gc.ca/formspubs/prioryear/t1/2012/mb-eng.html', u'http://www.cra-arc.gc.ca/formspubs/prioryear/t1/2012/nb-eng.html', u'http://www.cra-arc.gc.ca/formspubs/prioryear/t1/2012/nl-eng.html', u'http://www.cra-arc.gc.ca/formspubs/prioryear/t1/2012/nt-eng.html', u'http://www.cra-arc.gc.ca/formspubs/prioryear/t1/2012/ns-eng.html', u'http://www.cra-arc.gc.ca/formspubs/prioryear/t1/2012/nu-eng.html', u'http://www.cra-arc.gc.ca/formspubs/prioryear/t1/2012/on-eng.html', u'http://www.cra-arc.gc.ca/formspubs/prioryear/t1/2012/pe-eng.html', u'http://www.cra-arc.gc.ca/formspubs/prioryear/t1/2012/qc-eng.html', u'http://www.cra-arc.gc.ca/formspubs/prioryear/t1/2012/sk-eng.html', u'http://www.cra-arc.gc.ca/formspubs/prioryear/t1/2012/yk-eng.html', u'http://www.cra-arc.gc.ca/formspubs/prioryear/t1/2012/nnrsdnts-eng.html'], '1991': [u'http://www.cra-arc.gc.ca/formspubs/prioryear/t1/1991/alberta-e.html', u'http://www.cra-arc.gc.ca/formspubs/prioryear/t1/1991/british-columbia-e.html', u'http://www.cra-arc.gc.ca/formspubs/prioryear/t1/1991/manitoba-e.html', u'http://www.cra-arc.gc.ca/formspubs/prioryear/t1/1991/new-brunswick-e.html', u'http://www.cra-arc.gc.ca/formspubs/prioryear/t1/1991/newfoundland-e.html', u'http://www.cra-arc.gc.ca/formspubs/prioryear/t1/1991/northwest-territories-e.html', u'http://www.cra-arc.gc.ca/formspubs/prioryear/t1/1991/nova-scotia-e.html', u'http://www.cra-arc.gc.ca/formspubs/prioryear/t1/1991/ontario-e.html', u'http://www.cra-arc.gc.ca/formspubs/prioryear/t1/1991/prince-edward-island-e.html', u'http://www.cra-arc.gc.ca/formspubs/prioryear/t1/1991/quebec-e.html', u'http://www.cra-arc.gc.ca/formspubs/prioryear/t1/1991/saskatchewan-e.html', u'http://www.cra-arc.gc.ca/formspubs/prioryear/t1/1991/yukon-e.html'], '1990': [u'http://www.cra-arc.gc.ca/formspubs/prioryear/t1/1990/alberta-e.html', u'http://www.cra-arc.gc.ca/formspubs/prioryear/t1/1990/british-columbia-e.html', u'http://www.cra-arc.gc.ca/formspubs/prioryear/t1/1990/manitoba-e.html', u'http://www.cra-arc.gc.ca/formspubs/prioryear/t1/1990/new-brunswick-e.html', u'http://www.cra-arc.gc.ca/formspubs/prioryear/t1/1990/newfoundland-e.html', u'http://www.cra-arc.gc.ca/formspubs/prioryear/t1/1990/northwest-territories-e.html', u'http://www.cra-arc.gc.ca/formspubs/prioryear/t1/1990/nova-scotia-e.html', u'http://www.cra-arc.gc.ca/formspubs/prioryear/t1/1990/ontario-e.html', u'http://www.cra-arc.gc.ca/formspubs/prioryear/t1/1990/prince-edward-island-e.html', u'http://www.cra-arc.gc.ca/formspubs/prioryear/t1/1990/quebec-e.html', u'http://www.cra-arc.gc.ca/formspubs/prioryear/t1/1990/saskatchewan-e.html', u'http://www.cra-arc.gc.ca/formspubs/prioryear/t1/1990/yukon-e.html'], '1993': [u'http://www.cra-arc.gc.ca/formspubs/prioryear/t1/1993/alberta-e.html', u'http://www.cra-arc.gc.ca/formspubs/prioryear/t1/1993/british-columbia-e.html', u'http://www.cra-arc.gc.ca/formspubs/prioryear/t1/1993/manitoba-e.html', u'http://www.cra-arc.gc.ca/formspubs/prioryear/t1/1993/new-brunswick-e.html', u'http://www.cra-arc.gc.ca/formspubs/prioryear/t1/1993/newfoundland-e.html', u'http://www.cra-arc.gc.ca/formspubs/prioryear/t1/1993/northwest-territories-e.html', u'http://www.cra-arc.gc.ca/formspubs/prioryear/t1/1993/nova-scotia-e.html', u'http://www.cra-arc.gc.ca/formspubs/prioryear/t1/1993/ontario-e.html', u'http://www.cra-arc.gc.ca/formspubs/prioryear/t1/1993/prince-edward-island-e.html', u'http://www.cra-arc.gc.ca/formspubs/prioryear/t1/1993/quebec-e.html', u'http://www.cra-arc.gc.ca/formspubs/prioryear/t1/1993/saskatchewan-e.html', u'http://www.cra-arc.gc.ca/formspubs/prioryear/t1/1993/yukon-e.html'], '1992': [u'http://www.cra-arc.gc.ca/formspubs/prioryear/t1/1992/alberta-e.html', u'http://www.cra-arc.gc.ca/formspubs/prioryear/t1/1992/british-columbia-e.html', u'http://www.cra-arc.gc.ca/formspubs/prioryear/t1/1992/manitoba-e.html', u'http://www.cra-arc.gc.ca/formspubs/prioryear/t1/1992/new-brunswick-e.html', u'http://www.cra-arc.gc.ca/formspubs/prioryear/t1/1992/newfoundland-e.html', u'http://www.cra-arc.gc.ca/formspubs/prioryear/t1/1992/northwest-territories-e.html', u'http://www.cra-arc.gc.ca/formspubs/prioryear/t1/1992/nova-scotia-e.html', u'http://www.cra-arc.gc.ca/formspubs/prioryear/t1/1992/ontario-e.html', u'http://www.cra-arc.gc.ca/formspubs/prioryear/t1/1992/prince-edward-island-e.html', u'http://www.cra-arc.gc.ca/formspubs/prioryear/t1/1992/quebec-e.html', u'http://www.cra-arc.gc.ca/formspubs/prioryear/t1/1992/saskatchewan-e.html', u'http://www.cra-arc.gc.ca/formspubs/prioryear/t1/1992/yukon-e.html'], '1995': [u'http://www.cra-arc.gc.ca/formspubs/prioryear/t1/1995/alberta-e.html', u'http://www.cra-arc.gc.ca/formspubs/prioryear/t1/1995/british-columbia-e.html', u'http://www.cra-arc.gc.ca/formspubs/prioryear/t1/1995/manitoba-e.html', u'http://www.cra-arc.gc.ca/formspubs/prioryear/t1/1995/new-brunswick-e.html', u'http://www.cra-arc.gc.ca/formspubs/prioryear/t1/1995/newfoundland-e.html', u'http://www.cra-arc.gc.ca/formspubs/prioryear/t1/1995/northwest-territories-e.html', u'http://www.cra-arc.gc.ca/formspubs/prioryear/t1/1995/nova-scotia-e.html', u'http://www.cra-arc.gc.ca/formspubs/prioryear/t1/1995/ontario-e.html', u'http://www.cra-arc.gc.ca/formspubs/prioryear/t1/1995/prince-edward-island-e.html', u'http://www.cra-arc.gc.ca/formspubs/prioryear/t1/1995/quebec-e.html', u'http://www.cra-arc.gc.ca/formspubs/prioryear/t1/1995/saskatchewan-e.html', u'http://www.cra-arc.gc.ca/formspubs/prioryear/t1/1995/yukon-e.html', u'http://www.cra-arc.gc.ca/formspubs/prioryear/t1/1995//formspubs/prioryear/t1/1995/nonresidents-e.html'], '1994': [u'http://www.cra-arc.gc.ca/formspubs/prioryear/t1/1994/alberta-e.html', u'http://www.cra-arc.gc.ca/formspubs/prioryear/t1/1994/british-columbia-e.html', u'http://www.cra-arc.gc.ca/formspubs/prioryear/t1/1994/manitoba-e.html', u'http://www.cra-arc.gc.ca/formspubs/prioryear/t1/1994/new-brunswick-e.html', u'http://www.cra-arc.gc.ca/formspubs/prioryear/t1/1994/newfoundland-e.html', u'http://www.cra-arc.gc.ca/formspubs/prioryear/t1/1994/northwest-territories-e.html', u'http://www.cra-arc.gc.ca/formspubs/prioryear/t1/1994/nova-scotia-e.html', u'http://www.cra-arc.gc.ca/formspubs/prioryear/t1/1994/ontario-e.html', u'http://www.cra-arc.gc.ca/formspubs/prioryear/t1/1994/prince-edward-island-e.html', u'http://www.cra-arc.gc.ca/formspubs/prioryear/t1/1994/quebec-e.html', u'http://www.cra-arc.gc.ca/formspubs/prioryear/t1/1994/saskatchewan-e.html', u'http://www.cra-arc.gc.ca/formspubs/prioryear/t1/1994/yukon-e.html'], '1997': [u'http://www.cra-arc.gc.ca/formspubs/prioryear/t1/1997/alberta-e.html', u'http://www.cra-arc.gc.ca/formspubs/prioryear/t1/1997/british-columbia-e.html', u'http://www.cra-arc.gc.ca/formspubs/prioryear/t1/1997/manitoba-e.html', u'http://www.cra-arc.gc.ca/formspubs/prioryear/t1/1997/new-brunswick-e.html', u'http://www.cra-arc.gc.ca/formspubs/prioryear/t1/1997/newfoundland-e.html', u'http://www.cra-arc.gc.ca/formspubs/prioryear/t1/1997/northwest-territories-e.html', u'http://www.cra-arc.gc.ca/formspubs/prioryear/t1/1997/nova-scotia-e.html', u'http://www.cra-arc.gc.ca/formspubs/prioryear/t1/1997/ontario-e.html', u'http://www.cra-arc.gc.ca/formspubs/prioryear/t1/1997/prince-edward-island-e.html', u'http://www.cra-arc.gc.ca/formspubs/prioryear/t1/1997/quebec-e.html', u'http://www.cra-arc.gc.ca/formspubs/prioryear/t1/1997/saskatchewan-e.html', u'http://www.cra-arc.gc.ca/formspubs/prioryear/t1/1997/yukon-e.html', u'http://www.cra-arc.gc.ca/formspubs/prioryear/t1/1997//formspubs/prioryear/t1/1997/nonresidents-e.html'], '1996': [u'http://www.cra-arc.gc.ca/formspubs/prioryear/t1/1996/alberta-e.html', u'http://www.cra-arc.gc.ca/formspubs/prioryear/t1/1996/british-columbia-e.html', u'http://www.cra-arc.gc.ca/formspubs/prioryear/t1/1996/manitoba-e.html', u'http://www.cra-arc.gc.ca/formspubs/prioryear/t1/1996/new-brunswick-e.html', u'http://www.cra-arc.gc.ca/formspubs/prioryear/t1/1996/newfoundland-e.html', u'http://www.cra-arc.gc.ca/formspubs/prioryear/t1/1996/northwest-territories-e.html', u'http://www.cra-arc.gc.ca/formspubs/prioryear/t1/1996/nova-scotia-e.html', u'http://www.cra-arc.gc.ca/formspubs/prioryear/t1/1996/ontario-e.html', u'http://www.cra-arc.gc.ca/formspubs/prioryear/t1/1996/prince-edward-island-e.html', u'http://www.cra-arc.gc.ca/formspubs/prioryear/t1/1996/quebec-e.html', u'http://www.cra-arc.gc.ca/formspubs/prioryear/t1/1996/saskatchewan-e.html', u'http://www.cra-arc.gc.ca/formspubs/prioryear/t1/1996/yukon-e.html', u'http://www.cra-arc.gc.ca/formspubs/prioryear/t1/1996//formspubs/prioryear/t1/1996/nonresidents-e.html'], '1999': [u'http://www.cra-arc.gc.ca/formspubs/prioryear/t1/1999/alberta-e.html', u'http://www.cra-arc.gc.ca/formspubs/prioryear/t1/1999/british-columbia-e.html', u'http://www.cra-arc.gc.ca/formspubs/prioryear/t1/1999/manitoba-e.html', u'http://www.cra-arc.gc.ca/formspubs/prioryear/t1/1999/new-brunswick-e.html', u'http://www.cra-arc.gc.ca/formspubs/prioryear/t1/1999/newfoundland-e.html', u'http://www.cra-arc.gc.ca/formspubs/prioryear/t1/1999/northwest-territories-e.html', u'http://www.cra-arc.gc.ca/formspubs/prioryear/t1/1999/nova-scotia-e.html', u'http://www.cra-arc.gc.ca/formspubs/prioryear/t1/1999/nunavut-e.html', u'http://www.cra-arc.gc.ca/formspubs/prioryear/t1/1999/ontario-e.html', u'http://www.cra-arc.gc.ca/formspubs/prioryear/t1/1999/prince-edward-island-e.html', u'http://www.cra-arc.gc.ca/formspubs/prioryear/t1/1999/quebec-e.html', u'http://www.cra-arc.gc.ca/formspubs/prioryear/t1/1999/saskatchewan-e.html', u'http://www.cra-arc.gc.ca/formspubs/prioryear/t1/1999/yukon-e.html', u'http://www.cra-arc.gc.ca/formspubs/prioryear/t1/1999/nonresidents-e.html'], '1998': [u'http://www.cra-arc.gc.ca/formspubs/prioryear/t1/1998/alberta-e.html', u'http://www.cra-arc.gc.ca/formspubs/prioryear/t1/1998/british-columbia-e.html', u'http://www.cra-arc.gc.ca/formspubs/prioryear/t1/1998/manitoba-e.html', u'http://www.cra-arc.gc.ca/formspubs/prioryear/t1/1998/new-brunswick-e.html', u'http://www.cra-arc.gc.ca/formspubs/prioryear/t1/1998/newfoundland-e.html', u'http://www.cra-arc.gc.ca/formspubs/prioryear/t1/1998/northwest-territories-e.html', u'http://www.cra-arc.gc.ca/formspubs/prioryear/t1/1998/nova-scotia-e.html', u'http://www.cra-arc.gc.ca/formspubs/prioryear/t1/1998/ontario-e.html', u'http://www.cra-arc.gc.ca/formspubs/prioryear/t1/1998/prince-edward-island-e.html', u'http://www.cra-arc.gc.ca/formspubs/prioryear/t1/1998/quebec-e.html', u'http://www.cra-arc.gc.ca/formspubs/prioryear/t1/1998/saskatchewan-e.html', u'http://www.cra-arc.gc.ca/formspubs/prioryear/t1/1998/yukon-e.html', u'http://www.cra-arc.gc.ca/formspubs/prioryear/t1/1998//formspubs/prioryear/t1/1998/nonresidents-e.html'], '2002': [u'http://www.cra-arc.gc.ca/formspubs/prioryear/t1/2002/alberta-e.html', u'http://www.cra-arc.gc.ca/formspubs/prioryear/t1/2002/british-columbia-e.html', u'http://www.cra-arc.gc.ca/formspubs/prioryear/t1/2002/manitoba-e.html', u'http://www.cra-arc.gc.ca/formspubs/prioryear/t1/2002/new-brunswick-e.html', u'http://www.cra-arc.gc.ca/formspubs/prioryear/t1/2002/newfoundland-e.html', u'http://www.cra-arc.gc.ca/formspubs/prioryear/t1/2002/northwest-territories-e.html', u'http://www.cra-arc.gc.ca/formspubs/prioryear/t1/2002/nova-scotia-e.html', u'http://www.cra-arc.gc.ca/formspubs/prioryear/t1/2002/nunavut-e.html', u'http://www.cra-arc.gc.ca/formspubs/prioryear/t1/2002/ontario-e.html', u'http://www.cra-arc.gc.ca/formspubs/prioryear/t1/2002/prince-edward-island-e.html', u'http://www.cra-arc.gc.ca/formspubs/prioryear/t1/2002/quebec-e.html', u'http://www.cra-arc.gc.ca/formspubs/prioryear/t1/2002/saskatchewan-e.html', u'http://www.cra-arc.gc.ca/formspubs/prioryear/t1/2002/yukon-e.html', u'http://www.cra-arc.gc.ca/formspubs/prioryear/t1/2002/nonresidents-e.html'], '2003': [u'http://www.cra-arc.gc.ca/formspubs/prioryear/t1/2003/alberta-e.html', u'http://www.cra-arc.gc.ca/formspubs/prioryear/t1/2003/british-columbia-e.html', u'http://www.cra-arc.gc.ca/formspubs/prioryear/t1/2003/manitoba-e.html', u'http://www.cra-arc.gc.ca/formspubs/prioryear/t1/2003/new-brunswick-e.html', u'http://www.cra-arc.gc.ca/formspubs/prioryear/t1/2003/newfoundland-e.html', u'http://www.cra-arc.gc.ca/formspubs/prioryear/t1/2003/northwest-territories-e.html', u'http://www.cra-arc.gc.ca/formspubs/prioryear/t1/2003/nova-scotia-e.html', u'http://www.cra-arc.gc.ca/formspubs/prioryear/t1/2003/nunavut-e.html', u'http://www.cra-arc.gc.ca/formspubs/prioryear/t1/2003/ontario-e.html', u'http://www.cra-arc.gc.ca/formspubs/prioryear/t1/2003/prince-edward-island-e.html', u'http://www.cra-arc.gc.ca/formspubs/prioryear/t1/2003/quebec-e.html', u'http://www.cra-arc.gc.ca/formspubs/prioryear/t1/2003/saskatchewan-e.html', u'http://www.cra-arc.gc.ca/formspubs/prioryear/t1/2003/yukon-e.html', u'http://www.cra-arc.gc.ca/formspubs/prioryear/t1/2003/nonresidents-e.html'], '2000': [u'http://www.cra-arc.gc.ca/formspubs/prioryear/t1/2000/alberta-e.html', u'http://www.cra-arc.gc.ca/formspubs/prioryear/t1/2000/british-columbia-e.html', u'http://www.cra-arc.gc.ca/formspubs/prioryear/t1/2000/manitoba-e.html', u'http://www.cra-arc.gc.ca/formspubs/prioryear/t1/2000/new-brunswick-e.html', u'http://www.cra-arc.gc.ca/formspubs/prioryear/t1/2000/newfoundland-e.html', u'http://www.cra-arc.gc.ca/formspubs/prioryear/t1/2000/northwest-territories-e.html', u'http://www.cra-arc.gc.ca/formspubs/prioryear/t1/2000/nova-scotia-e.html', u'http://www.cra-arc.gc.ca/formspubs/prioryear/t1/2000/nunavut-e.html', u'http://www.cra-arc.gc.ca/formspubs/prioryear/t1/2000/ontario-e.html', u'http://www.cra-arc.gc.ca/formspubs/prioryear/t1/2000/prince-edward-island-e.html', u'http://www.cra-arc.gc.ca/formspubs/prioryear/t1/2000/quebec-e.html', u'http://www.cra-arc.gc.ca/formspubs/prioryear/t1/2000/saskatchewan-e.html', u'http://www.cra-arc.gc.ca/formspubs/prioryear/t1/2000/yukon-e.html', u'http://www.cra-arc.gc.ca/formspubs/prioryear/t1/2000/nonresidents-e.html'], '2001': [u'http://www.cra-arc.gc.ca/formspubs/prioryear/t1/2001/alberta-e.html', u'http://www.cra-arc.gc.ca/formspubs/prioryear/t1/2001/british-columbia-e.html', u'http://www.cra-arc.gc.ca/formspubs/prioryear/t1/2001/manitoba-e.html', u'http://www.cra-arc.gc.ca/formspubs/prioryear/t1/2001/new-brunswick-e.html', u'http://www.cra-arc.gc.ca/formspubs/prioryear/t1/2001/newfoundland-e.html', u'http://www.cra-arc.gc.ca/formspubs/prioryear/t1/2001/northwest-territories-e.html', u'http://www.cra-arc.gc.ca/formspubs/prioryear/t1/2001/nova-scotia-e.html', u'http://www.cra-arc.gc.ca/formspubs/prioryear/t1/2001/nunavut-e.html', u'http://www.cra-arc.gc.ca/formspubs/prioryear/t1/2001/ontario-e.html', u'http://www.cra-arc.gc.ca/formspubs/prioryear/t1/2001/prince-edward-island-e.html', u'http://www.cra-arc.gc.ca/formspubs/prioryear/t1/2001/quebec-e.html', u'http://www.cra-arc.gc.ca/formspubs/prioryear/t1/2001/saskatchewan-e.html', u'http://www.cra-arc.gc.ca/formspubs/prioryear/t1/2001/yukon-e.html', u'http://www.cra-arc.gc.ca/formspubs/prioryear/t1/2001/nonresidents-e.html'], '2006': [u'http://www.cra-arc.gc.ca/formspubs/prioryear/t1/2006/alberta-e.html', u'http://www.cra-arc.gc.ca/formspubs/prioryear/t1/2006/british-columbia-e.html', u'http://www.cra-arc.gc.ca/formspubs/prioryear/t1/2006/manitoba-e.html', u'http://www.cra-arc.gc.ca/formspubs/prioryear/t1/2006/new-brunswick-e.html', u'http://www.cra-arc.gc.ca/formspubs/prioryear/t1/2006/newfoundland-e.html', u'http://www.cra-arc.gc.ca/formspubs/prioryear/t1/2006/northwest-territories-e.html', u'http://www.cra-arc.gc.ca/formspubs/prioryear/t1/2006/nova-scotia-e.html', u'http://www.cra-arc.gc.ca/formspubs/prioryear/t1/2006/nunavut-e.html', u'http://www.cra-arc.gc.ca/formspubs/prioryear/t1/2006/ontario-e.html', u'http://www.cra-arc.gc.ca/formspubs/prioryear/t1/2006/prince-edward-island-e.html', u'http://www.cra-arc.gc.ca/formspubs/prioryear/t1/2006/quebec-e.html', u'http://www.cra-arc.gc.ca/formspubs/prioryear/t1/2006/saskatchewan-e.html', u'http://www.cra-arc.gc.ca/formspubs/prioryear/t1/2006/yukon-e.html', u'http://www.cra-arc.gc.ca/formspubs/prioryear/t1/2006/nonresidents-e.html'], '2007': [u'http://www.cra-arc.gc.ca/formspubs/prioryear/t1/2007/lbrt-eng.html', u'http://www.cra-arc.gc.ca/formspubs/prioryear/t1/2007/brtsh-clmb-eng.html', u'http://www.cra-arc.gc.ca/formspubs/prioryear/t1/2007/mntb-eng.html', u'http://www.cra-arc.gc.ca/formspubs/prioryear/t1/2007/nw-brnswck-eng.html', u'http://www.cra-arc.gc.ca/formspubs/prioryear/t1/2007/nwfndlnd-eng.html', u'http://www.cra-arc.gc.ca/formspubs/prioryear/t1/2007/nrthwst-trrtrs-eng.html', u'http://www.cra-arc.gc.ca/formspubs/prioryear/t1/2007/nv-sct-eng.html', u'http://www.cra-arc.gc.ca/formspubs/prioryear/t1/2007/nnnvt-eng.html', u'http://www.cra-arc.gc.ca/formspubs/prioryear/t1/2007/ntr-eng.html', u'http://www.cra-arc.gc.ca/formspubs/prioryear/t1/2007/prnc-dwrd-slnd-eng.html', u'http://www.cra-arc.gc.ca/formspubs/prioryear/t1/2007/qbc-eng.html', u'http://www.cra-arc.gc.ca/formspubs/prioryear/t1/2007/ssktchwn-eng.html', u'http://www.cra-arc.gc.ca/formspubs/prioryear/t1/2007/ykn-eng.html', u'http://www.cra-arc.gc.ca/formspubs/prioryear/t1/2007/nnrsdnts-eng.html'], '2004': [u'http://www.cra-arc.gc.ca/formspubs/prioryear/t1/2004/alberta-e.html', u'http://www.cra-arc.gc.ca/formspubs/prioryear/t1/2004/british-columbia-e.html', u'http://www.cra-arc.gc.ca/formspubs/prioryear/t1/2004/manitoba-e.html', u'http://www.cra-arc.gc.ca/formspubs/prioryear/t1/2004/new-brunswick-e.html', u'http://www.cra-arc.gc.ca/formspubs/prioryear/t1/2004/newfoundland-e.html', u'http://www.cra-arc.gc.ca/formspubs/prioryear/t1/2004/northwest-territories-e.html', u'http://www.cra-arc.gc.ca/formspubs/prioryear/t1/2004/nova-scotia-e.html', u'http://www.cra-arc.gc.ca/formspubs/prioryear/t1/2004/nunavut-e.html', u'http://www.cra-arc.gc.ca/formspubs/prioryear/t1/2004/ontario-e.html', u'http://www.cra-arc.gc.ca/formspubs/prioryear/t1/2004/prince-edward-island-e.html', u'http://www.cra-arc.gc.ca/formspubs/prioryear/t1/2004/quebec-e.html', u'http://www.cra-arc.gc.ca/formspubs/prioryear/t1/2004/saskatchewan-e.html', u'http://www.cra-arc.gc.ca/formspubs/prioryear/t1/2004/yukon-e.html', u'http://www.cra-arc.gc.ca/formspubs/prioryear/t1/2004/nonresidents-e.html'], '2005': [u'http://www.cra-arc.gc.ca/formspubs/prioryear/t1/2005/alberta-e.html', u'http://www.cra-arc.gc.ca/formspubs/prioryear/t1/2005/british-columbia-e.html', u'http://www.cra-arc.gc.ca/formspubs/prioryear/t1/2005/manitoba-e.html', u'http://www.cra-arc.gc.ca/formspubs/prioryear/t1/2005/new-brunswick-e.html', u'http://www.cra-arc.gc.ca/formspubs/prioryear/t1/2005/newfoundland-e.html', u'http://www.cra-arc.gc.ca/formspubs/prioryear/t1/2005/northwest-territories-e.html', u'http://www.cra-arc.gc.ca/formspubs/prioryear/t1/2005/nova-scotia-e.html', u'http://www.cra-arc.gc.ca/formspubs/prioryear/t1/2005/nunavut-e.html', u'http://www.cra-arc.gc.ca/formspubs/prioryear/t1/2005/ontario-e.html', u'http://www.cra-arc.gc.ca/formspubs/prioryear/t1/2005/prince-edward-island-e.html', u'http://www.cra-arc.gc.ca/formspubs/prioryear/t1/2005/quebec-e.html', u'http://www.cra-arc.gc.ca/formspubs/prioryear/t1/2005/saskatchewan-e.html', u'http://www.cra-arc.gc.ca/formspubs/prioryear/t1/2005/yukon-e.html', u'http://www.cra-arc.gc.ca/formspubs/prioryear/t1/2005/nonresidents-e.html'], '2008': [u'http://www.cra-arc.gc.ca/formspubs/prioryear/t1/2008/ab-eng.html', u'http://www.cra-arc.gc.ca/formspubs/prioryear/t1/2008/bc-eng.html', u'http://www.cra-arc.gc.ca/formspubs/prioryear/t1/2008/mb-eng.html', u'http://www.cra-arc.gc.ca/formspubs/prioryear/t1/2008/nb-eng.html', u'http://www.cra-arc.gc.ca/formspubs/prioryear/t1/2008/nl-eng.html', u'http://www.cra-arc.gc.ca/formspubs/prioryear/t1/2008/nt-eng.html', u'http://www.cra-arc.gc.ca/formspubs/prioryear/t1/2008/ns-eng.html', u'http://www.cra-arc.gc.ca/formspubs/prioryear/t1/2008/nu-eng.html', u'http://www.cra-arc.gc.ca/formspubs/prioryear/t1/2008/on-eng.html', u'http://www.cra-arc.gc.ca/formspubs/prioryear/t1/2008/pe-eng.html', u'http://www.cra-arc.gc.ca/formspubs/prioryear/t1/2008/qc-eng.html', u'http://www.cra-arc.gc.ca/formspubs/prioryear/t1/2008/sk-eng.html', u'http://www.cra-arc.gc.ca/formspubs/prioryear/t1/2008/yk-eng.html', u'http://www.cra-arc.gc.ca/formspubs/prioryear/t1/2008/nnrsdnts-eng.html'], '2009': [u'http://www.cra-arc.gc.ca/formspubs/prioryear/t1/2009/ab-eng.html', u'http://www.cra-arc.gc.ca/formspubs/prioryear/t1/2009/bc-eng.html', u'http://www.cra-arc.gc.ca/formspubs/prioryear/t1/2009/mb-eng.html', u'http://www.cra-arc.gc.ca/formspubs/prioryear/t1/2009/nb-eng.html', u'http://www.cra-arc.gc.ca/formspubs/prioryear/t1/2009/nl-eng.html', u'http://www.cra-arc.gc.ca/formspubs/prioryear/t1/2009/nt-eng.html', u'http://www.cra-arc.gc.ca/formspubs/prioryear/t1/2009/ns-eng.html', u'http://www.cra-arc.gc.ca/formspubs/prioryear/t1/2009/nu-eng.html', u'http://www.cra-arc.gc.ca/formspubs/prioryear/t1/2009/on-eng.html', u'http://www.cra-arc.gc.ca/formspubs/prioryear/t1/2009/pe-eng.html', u'http://www.cra-arc.gc.ca/formspubs/prioryear/t1/2009/qc-eng.html', u'http://www.cra-arc.gc.ca/formspubs/prioryear/t1/2009/sk-eng.html', u'http://www.cra-arc.gc.ca/formspubs/prioryear/t1/2009/yk-eng.html', u'http://www.cra-arc.gc.ca/formspubs/prioryear/t1/2009/nnrsdnts-eng.html']}\n"
     ]
    }
   ],
   "source": [
    "provincial_links = {}\n",
    "\n",
    "def provinceUrlListAppend(url_list, flag, year_url, year):\n",
    "    print year\n",
    "    if flag == \"normal\" or flag == \"older\":\n",
    "        for url in url_list:\n",
    "            provincial_links[year].append('http://' + url_split.netloc + url)\n",
    "    elif flag == \"reallyOld\":\n",
    "        for url in url_list:\n",
    "            link = 'http://' + url_split.netloc\n",
    "            link += urlsplit(year_url).path.rsplit('/', 1)[0]\n",
    "            link += \"/\" + url\n",
    "            provincial_links[year].append(link)\n",
    "\n",
    "def provinceUrlListProcess(url_list, year_url, year):\n",
    "    provincial_links[year] = []\n",
    "    # If it's 'normal' and Alberta is detected, go ahead\n",
    "    if url_list[0] == 'Alberta' or url_list[0] == ' ':\n",
    "        url_list = selection.xpath(\"//main[@property='mainContentOfPage']/ul[1]/li/a/@href\").extract()\n",
    "        provinceUrlListAppend(url_list, \"normal\", year_url, year)\n",
    "    else:\n",
    "        # In some older links, they stuck another unordered list above\n",
    "        url_list = selection.xpath(\"//main[@property='mainContentOfPage']/ul[2]/li/a/@href\").extract()\n",
    "        # Another edge case check where they started using relative urls around 1998\n",
    "        if url_list[0][0] == \"/\":\n",
    "            provinceUrlListAppend(url_list, \"older\", year_url, year)\n",
    "        else:\n",
    "            provinceUrlListAppend(url_list, \"reallyOld\", year_url, year)\n",
    "\n",
    "for year, year_url in year_pages_dict_full.iteritems():\n",
    "    year_page = urllib2.urlopen(year_url).read()\n",
    "    selection = Selector(text=year_page)\n",
    "    provt_pages = selection.xpath(\"//main[@property='mainContentOfPage']/ul/li/a/text()\").extract()\n",
    "    provinceUrlListProcess(provt_pages, year_url, year)\n",
    "\n",
    "print provincial_links"
   ]
  },
  {
   "cell_type": "code",
   "execution_count": 10,
   "metadata": {
    "collapsed": false
   },
   "outputs": [
    {
     "name": "stdout",
     "output_type": "stream",
     "text": [
      "http://www.cra-arc.gc.ca/formspubs/t1gnrl/ab-eng.html\n"
     ]
    },
    {
     "data": {
      "text/plain": [
       "<Selector xpath=None data=u'<html class=\"no-js\" lang=\"en\">\\r\\n<!--<![e'>"
      ]
     },
     "execution_count": 10,
     "metadata": {},
     "output_type": "execute_result"
    }
   ],
   "source": [
    "year = provincial_links[\"2014\"]\n",
    "url = year[0]\n",
    "print url\n",
    "page = urllib2.urlopen(url).read()\n",
    "selection = Selector(text=base_page)\n",
    "selection"
   ]
  },
  {
   "cell_type": "code",
   "execution_count": null,
   "metadata": {
    "collapsed": false
   },
   "outputs": [],
   "source": []
  },
  {
   "cell_type": "code",
   "execution_count": null,
   "metadata": {
    "collapsed": false
   },
   "outputs": [],
   "source": []
  },
  {
   "cell_type": "code",
   "execution_count": null,
   "metadata": {
    "collapsed": false
   },
   "outputs": [],
   "source": []
  },
  {
   "cell_type": "code",
   "execution_count": null,
   "metadata": {
    "collapsed": true
   },
   "outputs": [],
   "source": []
  }
 ],
 "metadata": {
  "kernelspec": {
   "display_name": "Python 2",
   "language": "python",
   "name": "python2"
  },
  "language_info": {
   "codemirror_mode": {
    "name": "ipython",
    "version": 2
   },
   "file_extension": ".py",
   "mimetype": "text/x-python",
   "name": "python",
   "nbconvert_exporter": "python",
   "pygments_lexer": "ipython2",
   "version": "2.7.10"
  }
 },
 "nbformat": 4,
 "nbformat_minor": 0
}
